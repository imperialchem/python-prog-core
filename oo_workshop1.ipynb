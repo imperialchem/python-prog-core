{
 "metadata": {
  "kernelspec": {
   "display_name": "Python 2",
   "language": "python",
   "name": "python2"
  },
  "language_info": {
   "codemirror_mode": {
    "name": "ipython",
    "version": 2
   },
   "file_extension": ".py",
   "mimetype": "text/x-python",
   "name": "python",
   "nbconvert_exporter": "python",
   "pygments_lexer": "ipython2",
   "version": "2.7.11"
  },
  "name": "",
  "signature": "sha256:0af15a5bcd5b129f62cd9a1dac55c9162799bb367297f1f2a08a1cd27bccbc7e"
 },
 "nbformat": 3,
 "nbformat_minor": 0,
 "worksheets": [
  {
   "cells": [
    {
     "cell_type": "heading",
     "level": 1,
     "metadata": {},
     "source": [
      "Introduction to object-oriented programming"
     ]
    },
    {
     "cell_type": "markdown",
     "metadata": {},
     "source": [
      "Clyde Fare and Jo\u00e3o Pedro Malhado, Imperial College London (contact: [python@imperial.ac.uk](mailto:python@imperial.ac.uk))\n",
      "\n",
      "Notebook is licensed under a [Creative Commons Attribution 4.0 (CC-by) license](http://creativecommons.org/licenses/by/4.0/)."
     ]
    },
    {
     "cell_type": "heading",
     "level": 2,
     "metadata": {},
     "source": [
      "Outline"
     ]
    },
    {
     "cell_type": "markdown",
     "metadata": {},
     "source": [
      "This workshop follows up on the earlier [Introduction to Computer Programming](https://github.com/imperialchem/python-prog-intro) course, by exploring some of the more advanced programming techniques made available in Python. Namelly we will be introducing the basic ideas of object-oriented programming, which is a powerful and popular technique to organize code for very large programs.\n",
      "\n",
      "In later parts of the course we will be using these techniques to implement computer simulations of chemicaly relevant phenomena, and extract results from these."
     ]
    },
    {
     "cell_type": "heading",
     "level": 2,
     "metadata": {},
     "source": [
      "A digression on programming styles"
     ]
    },
    {
     "cell_type": "markdown",
     "metadata": {},
     "source": [
      "Programming consists of composing sequences of instructions in order to solve some task. For this we use a language, a programming language, to express our reasoning in a form a machine (computer) can interpret. Most programming languages are quite rich, and allow people to express themselves in differents ways, and achieve the same result writting different programs. This is much like expressing verbally the same idea using different words.\n",
      "\n",
      "There are however different styles or types of logical approaches to solve the same problem, and different languages rely on, or are more suited for, different programming paradigms. To illustrate this we will consider several ways in which one could write a program to produce a list of the square root of all integers from 1 to 10."
     ]
    },
    {
     "cell_type": "heading",
     "level": 3,
     "metadata": {},
     "source": [
      "Procedural or imperative programming"
     ]
    },
    {
     "cell_type": "markdown",
     "metadata": {},
     "source": [
      "This is probably the most common style of programming, and the one we covered in the previous course. Since you are familiar with this type of programming, we kindly ask you to provide the example for it in writing a program to produce a list of the square roots of all integers between 1 and 10."
     ]
    },
    {
     "cell_type": "code",
     "collapsed": false,
     "input": [],
     "language": "python",
     "metadata": {},
     "outputs": []
    },
    {
     "cell_type": "markdown",
     "metadata": {},
     "source": [
      "Let us have a closer look at the program you wrote. You probably started by initializing a variable and then used a loop to update the value of this variable in order to achieve the result. The use of variables to store results and the use of loops are the hallmark of the procedural programming style.\n",
      "\n",
      "Procedural pragrams are structured as instructions that will modify the value of one or more variables in a sequence that very often will be wraped in a loop.\n",
      "\n",
      "One can encapsulate this instructions in functions that help in the organization of the program, but when looking inside them the basic logic will be sequences of instructions changing the value of variables and loops.\n",
      "\n",
      "The most used programming languages enforce or strongly favour a procedural programming style, some famous examples being [C](https://en.wikipedia.org/wiki/C_(programming_language), [Fortran](https://en.wikipedia.org/wiki/Fortran) or [BASIC](https://en.wikipedia.org/wiki/BASIC)."
     ]
    },
    {
     "cell_type": "heading",
     "level": 3,
     "metadata": {},
     "source": [
      "Functional programming"
     ]
    },
    {
     "cell_type": "markdown",
     "metadata": {},
     "source": [
      "In this type of programming functions are not just a way to encapsulate instructions, they (rather than variable values) form the central logic of the program. One of the characteristics of this programming style is that functions don't have to receive just data (ex. an integer or a list) as input but they can receive other functions.\n",
      "\n",
      "Python is not a particularly good language to do functional programming, but it has some of its features. We could write our example program as:\n",
      "\n",
      "    def sqroot(n):\n",
      "        return n**0.5\n",
      "\n",
      "    list(map(sqroot,range(1,11)))"
     ]
    },
    {
     "cell_type": "code",
     "collapsed": false,
     "input": [],
     "language": "python",
     "metadata": {},
     "outputs": []
    },
    {
     "cell_type": "markdown",
     "metadata": {},
     "source": [
      "Note that in the above code there are no variables and there are no loops! We define the function *sqroot()*, and use Python's function *map()* to apply it to all the elements resulting from the execution of the function *range()*. *list()* here is not so important and is there so that we can visualize the output as a list.\n",
      "\n",
      "Note that the function *map()* is receiving the function *sqroot()* itself as an argument, not some result of *sqroot()* acting on some data! Passing a some other function to *map()* would produce a different result.\n",
      "\n",
      "Functional programming is in fashion, with laguages like [Haskell](https://en.wikipedia.org/wiki/Haskell_(programming_language)) gainning popularity next to classics like [Lisp](https://en.wikipedia.org/wiki/Lisp_(programming_language))."
     ]
    },
    {
     "cell_type": "heading",
     "level": 3,
     "metadata": {},
     "source": [
      "Recursive programming"
     ]
    },
    {
     "cell_type": "heading",
     "level": 3,
     "metadata": {},
     "source": [
      "Object-oriented programming"
     ]
    },
    {
     "cell_type": "markdown",
     "metadata": {},
     "source": [
      "Encapsulate sequences of instructions and data together as objects.\n",
      "Organise code around objects."
     ]
    },
    {
     "cell_type": "markdown",
     "metadata": {},
     "source": [
      "In this workshop we will introduce object oriented programming, and the basic Python syntax needed to construct objects. We will also try a few simple exercises using objects. In the subsequent two workshops we will try and tackle a larger project making use of an object orientated approach. "
     ]
    },
    {
     "cell_type": "markdown",
     "metadata": {
      "slideshow": {
       "slide_type": "slide"
      }
     },
     "source": [
      "What's Object oriented code about?\n",
      "--\n",
      "\n",
      "<img src=1276_Codebases.png/>"
     ]
    },
    {
     "cell_type": "markdown",
     "metadata": {
      "slideshow": {
       "slide_type": "slide"
      }
     },
     "source": [
      "Given large code bases with 10<sup>4</sup> - 10<sup>8</sup> lines of code the most important problem is writing code that can be easily modified and maintained. \n",
      "\n",
      "OO is a means of organising data and functions into reuseable modular units or 'objects'.\n",
      "\n",
      "The benefits are:\n",
      "\n",
      "* Code reuse and recycling\n",
      "\n",
      "* Encapsulation\n",
      "\n",
      "* Easier design\n",
      "\n",
      "* Easier modification"
     ]
    },
    {
     "cell_type": "markdown",
     "metadata": {
      "slideshow": {
       "slide_type": "fragment"
      }
     },
     "source": [
      "Cons are:\n",
      "    \n",
      "* larger programs\n",
      "* some reduced performance\n",
      "* some learning curve"
     ]
    },
    {
     "cell_type": "markdown",
     "metadata": {
      "slideshow": {
       "slide_type": "slide"
      }
     },
     "source": [
      "Introducing the class\n",
      "---\n",
      "\n",
      "*Classes, instances, methods and attributes*"
     ]
    },
    {
     "cell_type": "markdown",
     "metadata": {},
     "source": [
      "Classes are a bit like having a seperate file for a some functions and variables but don't require use to actually use seperate files and also have various other benefits."
     ]
    },
    {
     "cell_type": "markdown",
     "metadata": {
      "collapsed": false
     },
     "source": [
      "When we created a function we used a special syntax to tell python we were creating a function and how that function should behave:\n",
      "\n",
      "    def my_function(arg1, arg2, arg3):\n",
      "        #code goes here using arg1/arg2/arg3 and creating another variable my_var\n",
      "        return my_var\n",
      "        \n",
      " So too for classes we have a special syntax that specifies what they are called and what they do. \n",
      "\n",
      "To define a new class we use the **class** keyword, followed by the name we are choosing for our class, (by convention class names are capitalised and function names are lowercase) a pair of round brackets and a colon.\n",
      "\n",
      "    class My_Class():\n",
      "\n",
      "Then what follows is a function with a strange name '__init__'. Actually we don't call functions inside classes functions, we call them **methods**, but they are basically the same thing. The __init__ **method** is used to initialise an instance of our class. \n",
      "\n",
      "        def __init__(self, arg1, arg2, arg3):\n",
      "            #code to initialise the class goes here\n",
      "            \n",
      "To illustrate what on Earth this means we will create a Vector class. This will allow us to create variables that represent 3D vectors. At a bare minimum that means our vector objects should contain three variables representing the x,y and z components of the vector. "
     ]
    },
    {
     "cell_type": "markdown",
     "metadata": {
      "collapsed": false
     },
     "source": [
      "    class Vector():   # <--- class definition\n",
      "        def __init__(self, i1,i2,i3):  #<--- initialisation method\n",
      "            self.x = i1\n",
      "            self.y = i2\n",
      "            self.z = i3"
     ]
    },
    {
     "cell_type": "code",
     "collapsed": true,
     "input": [],
     "language": "python",
     "metadata": {},
     "outputs": [],
     "prompt_number": null
    },
    {
     "cell_type": "markdown",
     "metadata": {},
     "source": [
      "We've just created our Vector class. When we define functions we later use them by calling them, when we define classes we use them by creating instances of them. Lets create an instance of our vector class.\n",
      "\n",
      "    v = Vector(1,2,3)"
     ]
    },
    {
     "cell_type": "code",
     "collapsed": false,
     "input": [],
     "language": "python",
     "metadata": {},
     "outputs": [],
     "prompt_number": null
    },
    {
     "cell_type": "markdown",
     "metadata": {},
     "source": [
      "We call the class a bit like a function with the name of the class (Vector in our case) followed by a pair of round brackets. Within the brackets we pass in the data we want to the class to be initialised with. We defined Vector to be initialised with 3 values (defined in the __init__ above) these 3 values are assigned names within the class and can be accessed through those names. Just as we call functions that live inside a class by the name **method** we call variables that live inside a class by another name **attribute**. In our vector class we have defined three attributes 'x', 'y' and 'z'. \n",
      "\n",
      "Once we have created an instance of our class (in our cause our instance is the variable v) we can access the attributes via the variable followed by a dot followed by the name of our instance. So to access the x attribute we would type:\n",
      "\n",
      "     v.x"
     ]
    },
    {
     "cell_type": "code",
     "collapsed": false,
     "input": [
      "v.x"
     ],
     "language": "python",
     "metadata": {},
     "outputs": [
      {
       "metadata": {},
       "output_type": "pyout",
       "prompt_number": 7,
       "text": [
        "1"
       ]
      }
     ],
     "prompt_number": 7
    },
    {
     "cell_type": "code",
     "collapsed": true,
     "input": [
      "Likewise we have:\n",
      "    print(v.y,v.z)"
     ],
     "language": "python",
     "metadata": {},
     "outputs": [],
     "prompt_number": null
    },
    {
     "cell_type": "code",
     "collapsed": false,
     "input": [
      "print(v.y,v.z)"
     ],
     "language": "python",
     "metadata": {},
     "outputs": [
      {
       "output_type": "stream",
       "stream": "stdout",
       "text": [
        "(2, 3)\n"
       ]
      }
     ],
     "prompt_number": 6
    },
    {
     "cell_type": "code",
     "collapsed": true,
     "input": [
      "We can create multiple instances of our class which behave as expected:\n",
      "    \n",
      "    v = Vector(1,2,3)\n",
      "    u = Vector(4,5,6)\n",
      "    \n",
      "    print(u.x,v.x)\n",
      "    print(u.y,v.y)\n",
      "    print(u.z,v.z)"
     ],
     "language": "python",
     "metadata": {},
     "outputs": [],
     "prompt_number": null
    },
    {
     "cell_type": "code",
     "collapsed": false,
     "input": [
      "v = Vector(1,2,3)\n",
      "u = Vector(4,5,6)\n",
      "\n",
      "print(u.x,v.x)\n",
      "print(u.y,v.y)\n",
      "print(u.z,v.z)"
     ],
     "language": "python",
     "metadata": {},
     "outputs": [
      {
       "output_type": "stream",
       "stream": "stdout",
       "text": [
        "(4, 1)\n",
        "(5, 2)\n",
        "(6, 3)\n"
       ]
      }
     ],
     "prompt_number": 5
    },
    {
     "cell_type": "markdown",
     "metadata": {},
     "source": [
      "That's basically it for how classes work of course we often want them to do more things so we add more methods and attributes but we've covered the basic syntax which is worth recapping:\n",
      "    \n",
      "Classes are a means to combine data (attributes) and functionality (methods). \n",
      "\n",
      "We define them using the *class* keyword followed by the name of our class. Within the class definition we must include an __init__ method which is used to initialise instances of the class.\n",
      "\n",
      "We create instances of the class by typing the name of our class followed by two round brackets and passing the data we want our instance to be initialised with.\n",
      "\n",
      "Once we have created an instance of our class and set it to a variable we can access attributes (and methods) of the class using the variable name followed by a dot then the name of the attribute (or method).\n"
     ]
    },
    {
     "cell_type": "markdown",
     "metadata": {},
     "source": [
      "This is the point to ask if you don't understand what's going on!"
     ]
    },
    {
     "cell_type": "markdown",
     "metadata": {},
     "source": [
      "Ok let's make our Vector class a bit more interesting! It's well and good being able to define and access the x,y and z components of a vector but if we really wanted to use this class to represent vectors we might also want method for some typical properties of a vector. For instance the length of the vector."
     ]
    },
    {
     "cell_type": "code",
     "collapsed": true,
     "input": [
      "    class Vector():   # <--- class definition\n",
      "        def __init__(self, i1,i2,i3):  #<--- initialisation method\n",
      "            self.x = i1   #<--- initialisation of attributes\n",
      "            self.y = i2\n",
      "            self.z = i3\n",
      "        def length(self): #<--- length method\n",
      "            return (self.x**2 + self.y**2 + self.z**2)**0.5\n",
      "        \n",
      "    v = Vector(3,4,0)\n",
      "    v.length()"
     ],
     "language": "python",
     "metadata": {},
     "outputs": [],
     "prompt_number": null
    },
    {
     "cell_type": "markdown",
     "metadata": {},
     "source": [
      "We define the length method just like we define a function, in this case we don't need any additional arguments so we don't pass anything to the method when we call it. You will no doubt have noticed that when we define the method we do actually pass one argument to it. **self**.\n",
      "\n",
      "All methods recieve self as their first argument (it's the first argument to \\__init\\__ too) self is what we call the object from the inside. That is when we're outside our class definition we create an instance and assign it to some variable (above we're using 'v' but of course we could pick any name we like) then we access attributes/methods with v. then the attribute/method name. When we're defining methods we need some way to refer to object before we've created any instances. This is what the self keyword is doing. So instead of v. we use self.\n",
      "\n",
      "When we call length we want to square each of the x y z components sum them all together and then take the square root. To access the x,y and z attributes we thus use self.x, self.y and self.z."
     ]
    },
    {
     "cell_type": "markdown",
     "metadata": {},
     "source": [
      "Create another method that we're going to call 'dot'. Here's how we want dot to behave:\n",
      "\n",
      "    u = Vector(1,2,3)\n",
      "    v = Vector(4,5,6)\n",
      "    u.dot(v) == 32\n",
      "    \n",
      "So we're going to create two instances of Vector u and v and then call the dot method of u passing in v as the argument to the method. The method will return the dot product of the two vectors. \n",
      "\n",
      "Add the dot method to the Vector class below and check it behaves as intended:\n",
      "    \n",
      "    class Vector():   # <--- class definition\n",
      "        def __init__(self, i1,i2,i3):  #<--- initialisation method\n",
      "            self.x = i1   #<--- initialisation of attributes\n",
      "            self.y = i2\n",
      "            self.z = i3\n",
      "        def length(self): #<--- length method\n",
      "            return (self.x**2 + self.y**2 + self.z**2)**0.5"
     ]
    },
    {
     "cell_type": "code",
     "collapsed": true,
     "input": [],
     "language": "python",
     "metadata": {},
     "outputs": [],
     "prompt_number": null
    },
    {
     "cell_type": "markdown",
     "metadata": {},
     "source": [
      "Now we want a combine method. Here's how we want it to behave:\n",
      "        \n",
      "    u = Vector(1,2,3)\n",
      "    v = Vector(4,5,6)\n",
      "    u.combine(v)\n",
      "    (u.x,u.y,u.z) == (5,7,9)\n",
      "    \n",
      "So we're going to create two instances of vector u and v, then we're going to call the combine method of u and again pass in v. This time the method won't return anything instead it will update of u by adding on v.\n",
      "\n",
      "Copy your Vector class from above, modify it to include a combine method and check it behaves as intended."
     ]
    },
    {
     "cell_type": "code",
     "collapsed": true,
     "input": [],
     "language": "python",
     "metadata": {},
     "outputs": [],
     "prompt_number": null
    },
    {
     "cell_type": "markdown",
     "metadata": {},
     "source": [
      "We can actually create new instances of a class from inside the class.\n",
      "\n",
      "    class Vector():   # <--- class definition\n",
      "        def __init__(self, i1,i2,i3):  #<--- initialisation method\n",
      "            self.x = i1   #<--- initialisation of attributes\n",
      "            self.y = i2\n",
      "            self.z = i3\n",
      "        def length(self): #<--- length method\n",
      "            return (self.x**2 + self.y**2 + self.z**2)**0.5\n",
      "        def copy(self):\n",
      "            return Vector(self.x,self.y,self.z)\n",
      "            \n",
      "     u=Vector(1,2,3)\n",
      "     v=u.copy()\n",
      "     (v.x,v.y,v.z) == (1,2,3)"
     ]
    },
    {
     "cell_type": "code",
     "collapsed": false,
     "input": [],
     "language": "python",
     "metadata": {},
     "outputs": [
      {
       "metadata": {},
       "output_type": "pyout",
       "prompt_number": 2,
       "text": [
        "(5, 7, 9)"
       ]
      }
     ],
     "prompt_number": 2
    },
    {
     "cell_type": "markdown",
     "metadata": {},
     "source": [
      "With this idea in mind let's improve our combine method so that instead of modifying the components of the instance the method belongs to instead it returns a new instance contained the summed vectors. I.e. change your Vector class so that it behaves in the following way:\n",
      "\n",
      "    u = Vector(1,2,3)\n",
      "    v = Vector(4,5,6)\n",
      "    w = u.combine(v)\n",
      "    \n",
      "    (u.x,u.y,u.z) == (1,2,3)\n",
      "    (v.x,v.y,v.z) == (4,5,6)\n",
      "    (w.x,w.y,w.z) == (5,7,9)"
     ]
    },
    {
     "cell_type": "code",
     "collapsed": true,
     "input": [],
     "language": "python",
     "metadata": {},
     "outputs": [],
     "prompt_number": null
    },
    {
     "cell_type": "markdown",
     "metadata": {},
     "source": [
      "It might be nice if instead of writing:\n",
      " \n",
      "    u.combine(v)\n",
      "\n",
      "We could instead write:\n",
      "    \n",
      "    u + v\n",
      "    \n",
      "It turns out we can actually do that! There are special methods that let use make use of the same syntax that python uses to modify it's own variables. The one we want is the \\__add\\__. Switch the name of your combine method to __add__ and try it out!"
     ]
    },
    {
     "cell_type": "code",
     "collapsed": true,
     "input": [],
     "language": "python",
     "metadata": {},
     "outputs": [],
     "prompt_number": null
    },
    {
     "cell_type": "markdown",
     "metadata": {},
     "source": [
      "For these special methods the name matters, when we make our own methods, we can choose any name we like. We chose to use combine because it's a vaguely sensible name but we could equally have called it add, or zaphod_beetlebrough if we really wanted. However the special class names are fixed (and also have the two underscores either side of them). There aren't too many of them but they can make your class behave like integers or lists. The only other one we'll mentioned is the __repr__ method.\n",
      "\n",
      "If we create an instance of Vector and just look at it the value we see something not enormously eye-pleasing:\n",
      "\n",
      "    u = Vector(1,2,3)\n",
      "    u"
     ]
    },
    {
     "cell_type": "markdown",
     "metadata": {},
     "source": [
      "What's being printed is telling us that u is an instance of the Vector class, and that weird string of symbols and numbers is actually the address in memory where the object is contained. It might be useful though to see at a glance what the vector contained. The special __repr__ method controls what gets printed when out if we just look at the value itself.\n",
      "\n",
      "Here's how we want our __repr__ method to behave:\n",
      "\n",
      "    u = Vector(1,2,3)\n",
      "    u.__repr__() == '1 2 3'\n",
      "   \n",
      "It should return a string that contains the values of the components. Modify your Vector class to include the __repr__ method and check it behaves as expected."
     ]
    },
    {
     "cell_type": "code",
     "collapsed": true,
     "input": [],
     "language": "python",
     "metadata": {},
     "outputs": [],
     "prompt_number": null
    },
    {
     "cell_type": "markdown",
     "metadata": {},
     "source": [
      "Now see what happens when you look at the value of u:\n",
      "        \n",
      "        u = Vector(1,2,3)\n",
      "        u"
     ]
    },
    {
     "cell_type": "code",
     "collapsed": true,
     "input": [],
     "language": "python",
     "metadata": {},
     "outputs": [],
     "prompt_number": null
    },
    {
     "cell_type": "markdown",
     "metadata": {},
     "source": [
      "Ok I think that's enough introduction to classes. This a good point to try get bit of bigger picture. Why are we bothering with all of this? We could do all the same things we've done so far with seperate variables for each component of each vector and we could use functions instead of methods. But if we did that it would be much more complicated, we would have to keep track of all these myriad of different variables and what they mean and how they fit together, we'd also have to keep track of what variables needed to be passed to which functions. \n",
      "\n",
      "With the Vector class that's all handled for us. Infact once it's defined we don't need to pay attention to how it works at all. We can think of an instance of the Vector class just as a vector. A proper class should provide methods that do all the fundamental things we expect to be able to do with the object that class represents.\n",
      "\n",
      "One final note before we move on to building stuff. In Python everything is an instance of a class, integers are actually instance of an integer class, lists are instances of a list class, etc. etc. and they all have attributes and methods. If you define a string:\n",
      "\n",
      "\n",
      "    s = 'my string"
     ]
    },
    {
     "cell_type": "markdown",
     "metadata": {},
     "source": [
      "You've really just set s to an instance of the string class which has been initialised with 'my_string'. When you type:\n",
      "    s.\n",
      "Then hit tab. The methods and attributes of the string class pop up for you to use."
     ]
    },
    {
     "cell_type": "code",
     "collapsed": true,
     "input": [],
     "language": "python",
     "metadata": {},
     "outputs": [],
     "prompt_number": null
    },
    {
     "cell_type": "markdown",
     "metadata": {},
     "source": [
      "Ok enough syntax let's build a molecule class. In our vector class our only attributes where three numbers x,y,z. Here we're going to want a bit more than that. We;ll want to initialise our molecule with two things, a list of atom symbol strings, and a list of Vectors representing the positions of the atoms.\n",
      "\n",
      "Define a Molecule class and check you can use it as follows:\n",
      "\n",
      "    h2o = Molecule(['H','O','H'],\n",
      "                   [Vector(0,0, 0.119262),Vector(0,0.763239,-0.477047),Vector(0,-0.763239,-0.477047)]\n",
      "                  )\n",
      "    h2o.symbols == ['H','O','H']"
     ]
    },
    {
     "cell_type": "code",
     "collapsed": true,
     "input": [],
     "language": "python",
     "metadata": {},
     "outputs": [],
     "prompt_number": null
    },
    {
     "cell_type": "markdown",
     "metadata": {},
     "source": [
      "In the previous class we developed a function angle which computed the angle defined by a triatomic molecule. \n",
      "Implement the same functionality in an angle method. Does the above defined water molecule have the right angle?"
     ]
    },
    {
     "cell_type": "code",
     "collapsed": true,
     "input": [],
     "language": "python",
     "metadata": {},
     "outputs": [],
     "prompt_number": null
    },
    {
     "cell_type": "markdown",
     "metadata": {},
     "source": [
      "An angle requires three points, in our example above we only have three atoms so it was clear which coordinates to use. But suppose we had a larger molecule like methane.\n",
      "\n",
      "Generalise your angle method so that it takes as arguments the indices of the atoms that should be used to define the angle. I.e. it should be used as follows:\n",
      "    \n",
      "    ch4 = Molecule(['C','H','H','H','H'],\n",
      "                   [Vector(0,0,0),\n",
      "                    Vector(0.629118,0.629118,0.629118),\n",
      "                    Vector(-0.629118,-0.629118,0.629118), \n",
      "                    Vector(0.629118, -0.629118, -0.629118),\n",
      "                    Vector(-0.629118,  0.629118, -0.629118)]\n",
      "                  )\n",
      "    ch4.angle(1,0,2) == 109.5"
     ]
    },
    {
     "cell_type": "markdown",
     "metadata": {
      "slideshow": {
       "slide_type": "slide"
      }
     },
     "source": [
      "Practical guidance\n",
      "------"
     ]
    },
    {
     "cell_type": "markdown",
     "metadata": {},
     "source": [
      "When you have a progamming problem and are trying to figure out how to structure your code use a natural language based description:\n",
      "\n",
      "Imagine that we wanted to make the classic game Asteroids. To identify the relevant classes we would try describing it.\n",
      "\n",
      "Wikipedia describes Asteroids as follows:\n",
      "\n",
      "    The objective of Asteroids is to score as many points as possible by destroying asteroids and flying saucers. The player controls a triangular-shaped ship that can rotate left and right, fire shots straight forward, and thrust forward. As the ship moves, momentum is not conserved \u2013 the ship eventually comes to a stop again when not thrusting.\"\n",
      "\n",
      "Look for nouns mentioned that could meaningfully have some kind of 'state' and some set of 'actions'. These become our objects.\n",
      "\n",
      "Thus classes are: \n",
      "\n",
      "* a ship, \n",
      "* an asteroid, \n",
      "* a flying saucer\n",
      "* a bullet \n",
      "\n",
      "Then for each object consider their states and behaviours\n",
      "\n",
      "e.g. the ship class: \n",
      "    \n",
      "    states: position, momentum, orientation\n",
      "    behaviours: rotate_left, rotate_right, thrust, fire"
     ]
    },
    {
     "cell_type": "code",
     "collapsed": false,
     "input": [
      "class Ship():\n",
      "    def __init__(self, position=(0,0), momentum=(0,0), orientation=0, bullets=None):\n",
      "        self.position = np.array(position)\n",
      "        self.momentum = np.array(momentum)\n",
      "        self.orientation = orientation\n",
      "        self.bullets = bullets\n",
      "        \n",
      "    def rotate_left(self, ang):\n",
      "        self.orientation -= ang\n",
      "        \n",
      "    def rotate_right(self, ang):\n",
      "        self.orientation += ang\n",
      "        \n",
      "    def thrust(self, w):\n",
      "        x_,y_ = self.momentum\n",
      "        self.momentum = x_+sin(self.orientation)*w, y_+cos(self.orientation)*w\n",
      "    \n",
      "    def fire(self):\n",
      "        self.bullets.append(Bullet(self.position, self.orientation))\n",
      "\n",
      "    def check_collision(self):\n",
      "        pass\n",
      "    \n",
      "    def update(self, dt):\n",
      "        for bullet in self.bullets:\n",
      "            bullet.update(dt)\n",
      "            \n",
      "        self.position += dt*self.momentum\n",
      "        self.check_collision()"
     ],
     "language": "python",
     "metadata": {
      "slideshow": {
       "slide_type": "subslide"
      }
     },
     "outputs": [],
     "prompt_number": 6
    }
   ],
   "metadata": {}
  }
 ]
}