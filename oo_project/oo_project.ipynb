{
 "cells": [
  {
   "cell_type": "markdown",
   "metadata": {},
   "source": [
    "In this workshop we will work on a project to construct a simulation of a gas in a 2d box. You may have seen something similar on your lectures though here our simulation will be a bit simpler.\n",
    "\n",
    "We will be simulating an ideal gas so particles will collide with each other and the walls of the box in a perfectly elastic manner. The aim will be to simulate N particles, in a box of size L x L, given some initial conditions, namely the positions and momementa of the particles involved.\n",
    "\n",
    "Once we have our simulation up and running we'll check the distribution of speeds and see if it corresponds to the distribution predicted by the 2d version of the Maxwell-Boltzmann distribution."
   ]
  },
  {
   "cell_type": "code",
   "execution_count": 1,
   "metadata": {
    "collapsed": false
   },
   "outputs": [],
   "source": [
    "import numpy as np\n",
    "from oo_functions import animate_trajectory, clunky_display_frame, display_particle, display_vecs\n",
    "from oo_functions import display_trajectory, get_particles"
   ]
  },
  {
   "cell_type": "code",
   "execution_count": 2,
   "metadata": {
    "collapsed": false
   },
   "outputs": [],
   "source": [
    "%load_ext autoreload\n",
    "%autoreload 2"
   ]
  },
  {
   "cell_type": "code",
   "execution_count": 2,
   "metadata": {
    "collapsed": true
   },
   "outputs": [],
   "source": [
    "from my_simulation import Vector, Particle, Simulation"
   ]
  },
  {
   "cell_type": "code",
   "execution_count": 3,
   "metadata": {
    "collapsed": false
   },
   "outputs": [],
   "source": [
    "#from oo_fast_functions import Vector, Particle"
   ]
  },
  {
   "cell_type": "markdown",
   "metadata": {},
   "source": [
    "We're going to create two classes, a Particle class which will represent *drum roll* particles and a simulation class which will represent the total simulation and which include many instances of our particle class.\n",
    "\n",
    "Let's start with the particle class. For our purposes the properties that define a single particle will be position momentum and radius. In the skeleton of the class below replace *pass* with code so that the particle class has position/momentum/radius attributes. We will also want a method *velocity* which will return the velocity of the particle (using the momentum and mass attributes)\n",
    "\n",
    "    class Particle():\n",
    "        def __init__(self, position, momentum, radius=1, mass=1):\n",
    "            pass\n",
    "\n",
    "        def velocity(self):\n",
    "            pass"
   ]
  },
  {
   "cell_type": "code",
   "execution_count": null,
   "metadata": {
    "collapsed": true
   },
   "outputs": [],
   "source": []
  },
  {
   "cell_type": "markdown",
   "metadata": {},
   "source": [
    "We've created some helper functions for this workshop that will help with visualisation. One function is called display_particle. In the cell below use your particle class to create a particle object and then use the display_particle function to display it. In order to initialise your particle you'll need to create two vectors one for position and one for momentum and provide your particle with a radius and a mass."
   ]
  },
  {
   "cell_type": "code",
   "execution_count": 6,
   "metadata": {
    "collapsed": false
   },
   "outputs": [],
   "source": [
    "position=Vector(0,0)\n",
    "momentum=Vector(0,1)\n",
    "p=Particle(position,momentum,1,1)\n",
    "display_particle(p)"
   ]
  },
  {
   "cell_type": "markdown",
   "metadata": {},
   "source": [
    "A plot showing your particle should have popped up. Bask in the glory of the particle you have created."
   ]
  },
  {
   "cell_type": "markdown",
   "metadata": {},
   "source": [
    "Ok now we can create particles but they aren't doing too much let's try generate a trajectory. As our particle is a free particle experiencing no forces the momentum will not change with time. The position however will change. In a small amount of time dt the position will change via:\n",
    "$$S_{t+1}=S_{t}+V.dt$$\n",
    "\n",
    "To generate a trajectory we are going to run our simulation for a certain number of time steps, during each time step we will use the velocity to update the position and then we'll record the position in a list.\n",
    "\n",
    "Write a for loop which during each iteration uses the particle velocity and the small amount time dt to update the position of the particle. You'll also want to add the position to the trajectory list so that we have a record of where the particle has been."
   ]
  },
  {
   "cell_type": "code",
   "execution_count": 7,
   "metadata": {
    "collapsed": true
   },
   "outputs": [],
   "source": [
    "no_steps = 1000\n",
    "dt = 0.01\n",
    "\n",
    "particle_trajectory = []\n",
    "for step in range(no_steps):\n",
    "    pass"
   ]
  },
  {
   "cell_type": "code",
   "execution_count": 6,
   "metadata": {
    "collapsed": false
   },
   "outputs": [
    {
     "ename": "NameError",
     "evalue": "name 'p' is not defined",
     "output_type": "error",
     "traceback": [
      "\u001b[1;31m---------------------------------------------------------------------------\u001b[0m",
      "\u001b[1;31mNameError\u001b[0m                                 Traceback (most recent call last)",
      "\u001b[1;32m<ipython-input-6-ba1b6ed24d4a>\u001b[0m in \u001b[0;36m<module>\u001b[1;34m()\u001b[0m\n\u001b[0;32m      4\u001b[0m \u001b[0mparticle_trajectory\u001b[0m \u001b[1;33m=\u001b[0m \u001b[1;33m[\u001b[0m\u001b[1;33m]\u001b[0m\u001b[1;33m\u001b[0m\u001b[0m\n\u001b[0;32m      5\u001b[0m \u001b[1;32mfor\u001b[0m \u001b[0mstep\u001b[0m \u001b[1;32min\u001b[0m \u001b[0mrange\u001b[0m\u001b[1;33m(\u001b[0m\u001b[0mno_steps\u001b[0m\u001b[1;33m)\u001b[0m\u001b[1;33m:\u001b[0m\u001b[1;33m\u001b[0m\u001b[0m\n\u001b[1;32m----> 6\u001b[1;33m     \u001b[0mp\u001b[0m\u001b[1;33m.\u001b[0m\u001b[0mposition\u001b[0m \u001b[1;33m=\u001b[0m \u001b[0mp\u001b[0m\u001b[1;33m.\u001b[0m\u001b[0mposition\u001b[0m \u001b[1;33m+\u001b[0m \u001b[0mp\u001b[0m\u001b[1;33m.\u001b[0m\u001b[0mvelocity\u001b[0m\u001b[1;33m(\u001b[0m\u001b[1;33m)\u001b[0m \u001b[1;33m*\u001b[0m \u001b[0mdt\u001b[0m\u001b[1;33m\u001b[0m\u001b[0m\n\u001b[0m\u001b[0;32m      7\u001b[0m     \u001b[0mparticle_trajectory\u001b[0m\u001b[1;33m.\u001b[0m\u001b[0mappend\u001b[0m\u001b[1;33m(\u001b[0m\u001b[0mp\u001b[0m\u001b[1;33m.\u001b[0m\u001b[0mposition\u001b[0m\u001b[1;33m)\u001b[0m\u001b[1;33m\u001b[0m\u001b[0m\n",
      "\u001b[1;31mNameError\u001b[0m: name 'p' is not defined"
     ]
    }
   ],
   "source": [
    "no_steps = 1000\n",
    "dt = 0.01\n",
    "\n",
    "particle_trajectory = []\n",
    "for step in range(no_steps):\n",
    "    p.position = p.position + p.velocity() * dt\n",
    "    particle_trajectory.append(p.position)"
   ]
  },
  {
   "cell_type": "markdown",
   "metadata": {},
   "source": [
    "Use the display_trajectory function on the positions list to view the motion of your particle"
   ]
  },
  {
   "cell_type": "code",
   "execution_count": 9,
   "metadata": {
    "collapsed": false
   },
   "outputs": [],
   "source": [
    "display_trajectory(particle_trajectory)"
   ]
  },
  {
   "cell_type": "markdown",
   "metadata": {},
   "source": [
    "Great! We're going to take a step sideways now and introduce our main simulation class. The code you wrote above calculated the position of a single particle for multiple time steps.\n",
    "\n",
    "This time we're going to have many particles but we're only going to calculate their position for a single time step. Below is a skeleton for our simulation class, it is initialised with a list of particles and a number dt. It includes a method *step* this method is where the action takes place it should loop over every particle and update the particle's position using it's momementum and the small amount time dt.\n",
    "\n",
    "    class Simulation():\n",
    "        def __init__(self, particles, box_length, dt):\n",
    "            pass\n",
    "\n",
    "        def step(self):\n",
    "            pass"
   ]
  },
  {
   "cell_type": "code",
   "execution_count": 10,
   "metadata": {
    "collapsed": true
   },
   "outputs": [],
   "source": [
    "# class Simulation():\n",
    "#     def __init__(self, particles, dt):\n",
    "#         self.particles = particles\n",
    "#         self.dt = dt\n",
    "    \n",
    "#     def step(self):\n",
    "#         for particle in particles:\n",
    "#             particle.position = particle.position + particle.velocity() * self.dt"
   ]
  },
  {
   "cell_type": "markdown",
   "metadata": {},
   "source": [
    "Test your simulation class using the code below (we're printing out the y coordinate of the first particle at the start of the simulation and after we have updated the positions)"
   ]
  },
  {
   "cell_type": "code",
   "execution_count": 7,
   "metadata": {
    "collapsed": false
   },
   "outputs": [
    {
     "name": "stdout",
     "output_type": "stream",
     "text": [
      "0\n",
      "1.0\n",
      "2.0\n"
     ]
    }
   ],
   "source": [
    "particles = [Particle(Vector(0.5,0),Vector(0,1),1,1),\n",
    "             Particle(Vector(0.5,1),Vector(0,-1),1,1),\n",
    "             Particle(Vector(0,0), Vector(0.5,0.5),1,1)]\n",
    "\n",
    "s=Simulation(particles, 100,1)\n",
    "\n",
    "print(s.particles[0].position.y)\n",
    "s.step()\n",
    "print(s.particles[0].position.y)\n",
    "s.step()\n",
    "print(s.particles[0].position.y)"
   ]
  },
  {
   "cell_type": "markdown",
   "metadata": {},
   "source": [
    "We also want to record the positions so we can have a look at the trajectories our particles have taken during the simulation.\n",
    "\n",
    "In the cell below is another simulation class skeleton, you'll want to fill out the __init__ and step methods as before but this time we've also got a record_positions method. This method should loop over all the particles and append their position to the positions list. Once done is should append the positions list to the trajectory attribute. You'll want to call the record_positions method at the end of step method so that every time we update the particles we record where they are. \n",
    "\n",
    "    class Simulation():\n",
    "        def __init__(self, particles, dt):\n",
    "            self.trajectory = []\n",
    "\n",
    "        def step(self):\n",
    "            pass\n",
    "\n",
    "        def record_positions(self):\n",
    "            positions = []"
   ]
  },
  {
   "cell_type": "code",
   "execution_count": null,
   "metadata": {
    "collapsed": true
   },
   "outputs": [],
   "source": []
  },
  {
   "cell_type": "code",
   "execution_count": 12,
   "metadata": {
    "collapsed": true
   },
   "outputs": [],
   "source": [
    "# class Simulation():\n",
    "#     def __init__(self, particles, dt):\n",
    "#         self.particles = particles\n",
    "#         self.dt = dt\n",
    "        \n",
    "#         self.trajectory = []\n",
    "    \n",
    "#     def step(self):\n",
    "#         for particle in particles:\n",
    "#             particle.position = particle.position + particle.velocity() * self.dt\n",
    "#         self.record_positions()\n",
    "        \n",
    "#     def record_positions(self):\n",
    "#         positions = []\n",
    "        \n",
    "#         for particle in particles:\n",
    "#             positions.append(particle.position)\n",
    "#         self.trajectory.append(positions)"
   ]
  },
  {
   "cell_type": "markdown",
   "metadata": {},
   "source": [
    "Test your code using the cell below:"
   ]
  },
  {
   "cell_type": "code",
   "execution_count": 51,
   "metadata": {
    "collapsed": false
   },
   "outputs": [],
   "source": [
    "particles = [Particle(Vector(10,0),Vector(0,0.75),1,1),\n",
    "             Particle(Vector(50,10),Vector(0,0.5),1,1),\n",
    "             Particle(Vector(0,0), Vector(0.5,0.75),1,1)]\n",
    "\n",
    "no_steps = 500\n",
    "\n",
    "s=Simulation(particles, 100, .1)\n",
    "for i in range(no_steps):\n",
    "    s.step()\n",
    "\n",
    "animate_trajectory(s)"
   ]
  },
  {
   "cell_type": "markdown",
   "metadata": {},
   "source": [
    "Rather than manually defining particles let's construct a helper function *get_particles* that will generate an initial collection of particles. To use this function you will need to specify the number of particles you want, the size of the box they are in and optionally a momentum to give all the particles (if no momentum is supplied the function will randomly assign momenta)\n",
    "\n",
    "Use this function to simulation 100 particles for 500 time steps."
   ]
  },
  {
   "cell_type": "code",
   "execution_count": 14,
   "metadata": {
    "collapsed": true
   },
   "outputs": [],
   "source": [
    "from oo_functions import get_particles\n",
    "\n",
    "pass"
   ]
  },
  {
   "cell_type": "code",
   "execution_count": 9,
   "metadata": {
    "collapsed": false
   },
   "outputs": [],
   "source": [
    "from oo_functions import get_particles\n",
    "\n",
    "particles = get_particles(200, 100)\n",
    "s=Simulation(particles, 100, .1)\n",
    "\n",
    "for i in range(500):\n",
    "    s.step()\n",
    "    \n",
    "animate_trajectory(s)"
   ]
  },
  {
   "cell_type": "markdown",
   "metadata": {},
   "source": [
    "Ok we're making great progress but our simulation faces two problems:\n",
    "\n",
    "   * Our particles pass through the boundaries of our box\n",
    "   * Our particles pass through each other.\n",
    "   \n",
    "Let's focus on the boundaries problem to begin with. First we'll create a simple test involving particles going through the boundary. That way when we change our code we can check it's behaving the way we want."
   ]
  },
  {
   "cell_type": "code",
   "execution_count": 3,
   "metadata": {
    "collapsed": false
   },
   "outputs": [],
   "source": [
    "def test_box():\n",
    "    box_length = 100\n",
    "    no_steps = 300\n",
    "\n",
    "    p1 = Particle(position=Vector(10,50), momentum=Vector(-1,0),radius=1,mass=1)\n",
    "    p2 = Particle(position=Vector(50,90), momentum=Vector(0,1) ,radius=1,mass=1)\n",
    "    p3 = Particle(position=Vector(50,10), momentum=Vector(0,-1),radius=1,mass=1)\n",
    "    p4 = Particle(position=Vector(90,50), momentum=Vector(1,0) ,radius=1,mass=1)\n",
    "\n",
    "    test_case = [p1,p2,p3,p4]\n",
    "    s=Simulation(particles=test_case,box_length=100,dt=0.05)\n",
    "\n",
    "    for i in range(500):\n",
    "        s.step()\n",
    "    animate_trajectory(s,loop=True)\n",
    "    \n",
    "test_box()"
   ]
  },
  {
   "cell_type": "markdown",
   "metadata": {},
   "source": [
    "Let's update our simulation class so that instead of passing through our box they bounce off the edges. Our simulation class will need to be initialised with an additional attribute: *box_length* and it will need an additional method *apply_box_collisions*.\n",
    "\n",
    "Let's think about what this method should do. At the moment our particles momenta remain unaltered no matter what happens. But we would like the momentum of a particle along the x-axis to reverse if it goes past the sides of our box, likewise we would like the momentum of a particle along the y-axis to reverse if it goes past the top or the bottom of our box.\n",
    "\n",
    "Try implementing an apply_box_collisions method in the skeleton below. This method will recieve as it's argument a particle and then it will check whether that particle is past the boundaries of the box and if it is change it's momentum accordingly.\n",
    "\n",
    "We'll then add in a call to apply_box_collisions in our step method that loops over all the particles.\n",
    "\n",
    "    class Simulation():\n",
    "        def __init__(self, particles, box_length, dt):        \n",
    "            self.trajectory = []\n",
    "\n",
    "            pass\n",
    "\n",
    "        def apply_box_collisions(self, particle):\n",
    "            pass\n",
    "\n",
    "        def step(self):\n",
    "            pass\n",
    "\n",
    "        def record_positions(self):\n",
    "            positions = []\n",
    "\n",
    "            pass"
   ]
  },
  {
   "cell_type": "code",
   "execution_count": 18,
   "metadata": {
    "collapsed": true
   },
   "outputs": [],
   "source": [
    "# class Simulation():\n",
    "#     def __init__(self, particles, dt, box_length):\n",
    "#         self.particles = particles\n",
    "#         self.dt = dt\n",
    "#         self.box_length = box_length\n",
    "        \n",
    "#         self.trajectory = []\n",
    "        \n",
    "#     def apply_box_collisions(self, particle):\n",
    "#         if particle.position.x <0 or particle.position.x > self.box_length:\n",
    "#             particle.momentum.x *= -1.0\n",
    "\n",
    "#         if particle.position.y <0 or particle.position.y > self.box_length:\n",
    "#             particle.momentum.y *= -1.0\n",
    "            \n",
    "#     def step(self):\n",
    "#         for particle in self.particles:\n",
    "#             particle.position = particle.position + particle.velocity() * self.dt\n",
    "#             self.apply_box_collisions(particle)\n",
    "#         self.record_positions()\n",
    "        \n",
    "#     def record_positions(self):\n",
    "#         positions = []\n",
    "        \n",
    "#         for particle in self.particles:\n",
    "#             positions.append(particle.position)\n",
    "#         self.trajectory.append(positions)"
   ]
  },
  {
   "cell_type": "markdown",
   "metadata": {},
   "source": [
    "Test your simulation class by executing the cell below"
   ]
  },
  {
   "cell_type": "code",
   "execution_count": 19,
   "metadata": {
    "collapsed": false
   },
   "outputs": [],
   "source": [
    "test_box()"
   ]
  },
  {
   "cell_type": "markdown",
   "metadata": {},
   "source": [
    "# Collisions"
   ]
  },
  {
   "cell_type": "markdown",
   "metadata": {},
   "source": [
    "Ok the final problem and the most challenging is implementing interparticle collisions. First we'll create a couple of test cases:"
   ]
  },
  {
   "cell_type": "code",
   "execution_count": 7,
   "metadata": {
    "collapsed": false
   },
   "outputs": [],
   "source": [
    "def test_1d_collision():\n",
    "    box_length = 100\n",
    "    no_steps = 300\n",
    "\n",
    "    p1 = Particle(position = Vector(10,10), momentum=Vector(1,0),radius=1,mass=1)\n",
    "    p2 = Particle(position = Vector(20,10), momentum=Vector(0,0) ,radius=1,mass=1)\n",
    "    \n",
    "    test_case = [p1,p2]\n",
    "    s=Simulation(particles=test_case,box_length=100,dt=0.05)\n",
    "\n",
    "    for i in range(500):\n",
    "        s.step()\n",
    "    animate_trajectory(s,loop=True)\n",
    "\n",
    "test_1d_collision()"
   ]
  },
  {
   "cell_type": "code",
   "execution_count": 4,
   "metadata": {
    "collapsed": true
   },
   "outputs": [],
   "source": [
    "def test_2d_collision():\n",
    "    box_length = 100\n",
    "    no_steps = 300\n",
    "\n",
    "    p1 = Particle(position = Vector(10,10), momentum=Vector(1,0.5),radius=1,mass=1)\n",
    "    p2 = Particle(position = Vector(20,15), momentum=Vector(0,0) ,radius=1,mass=1)\n",
    "    \n",
    "    test_case = [p1,p2]\n",
    "    s=Simulation(particles=test_case,box_length=100,dt=0.05)\n",
    "\n",
    "    for i in range(500):\n",
    "        s.step()\n",
    "    animate_trajectory(s,loop=True)\n",
    "\n",
    "test_2d_collision()"
   ]
  },
  {
   "cell_type": "markdown",
   "metadata": {},
   "source": [
    "### Enhancing the Particle class"
   ]
  },
  {
   "cell_type": "markdown",
   "metadata": {},
   "source": [
    "One thing that will make our life easier is if we add another method to our particle class. In order to check whether two particles are going to collide we need to check whether they overlap. So we'll want to add an overlap method to our Particle class, this method will recieve as it's second argument another particle (as always the first argument a method recieves is always self). Our method will then return True if the distance between this other particle and its self is less than the sum of the two particle's radii. Fill out the class skeleton below:\n",
    "\n",
    "    class Particle():\n",
    "        def __init__(self, position, momentum, radius, mass):\n",
    "            pass\n",
    "\n",
    "        def velocity(self):\n",
    "            pass\n",
    "\n",
    "        def overlap(self, other_particle):\n",
    "            pass"
   ]
  },
  {
   "cell_type": "code",
   "execution_count": 24,
   "metadata": {
    "collapsed": true
   },
   "outputs": [],
   "source": [
    "# class Particle():\n",
    "#     def __init__(self, position, momentum, radius, mass):\n",
    "#         self.position = position\n",
    "#         self.momentum = momentum\n",
    "#         self.radius = radius\n",
    "#         self.mass = mass\n",
    "        \n",
    "#     def velocity(self):\n",
    "#         return self.momentum/self.mass\n",
    "    \n",
    "#     def overlap(self, other):\n",
    "#         displacement = self.position - other.position\n",
    "#         return displacement.length() < (self.radius + other.radius)"
   ]
  },
  {
   "cell_type": "markdown",
   "metadata": {},
   "source": [
    "In the cell below create some particle variables and see if the overlap method behaves the way you expect it to."
   ]
  },
  {
   "cell_type": "code",
   "execution_count": null,
   "metadata": {
    "collapsed": true
   },
   "outputs": [],
   "source": []
  },
  {
   "cell_type": "code",
   "execution_count": 26,
   "metadata": {
    "collapsed": false
   },
   "outputs": [],
   "source": [
    "# pos_1 = Vector(0,0)\n",
    "# mom_1 = Vector(1,0)\n",
    "\n",
    "# pos_2 = Vector(5,0)\n",
    "# mom_2 = Vector(0,0)\n",
    "\n",
    "# pos_3 = Vector(1,0)\n",
    "# mom_3 = Vector(0,0)\n",
    "\n",
    "\n",
    "# p1 = Particle(pos_1,mom_1,1,1)\n",
    "# p2 = Particle(pos_2,mom_2,1,1)\n",
    "# p3 = Particle(pos_3,mom_3,1,1)\n",
    "\n",
    "# print(p1.overlap(p2))\n",
    "# print(p1.overlap(p3))"
   ]
  },
  {
   "cell_type": "markdown",
   "metadata": {},
   "source": [
    "### 1D collisions"
   ]
  },
  {
   "cell_type": "markdown",
   "metadata": {
    "collapsed": true
   },
   "source": [
    "Ok so now we can think about the collisions themselves. We're going to focus on perfectly elastic collisions and to start with we're going to make two additional simplifications: \n",
    "\n",
    "* We're going to pretend that we're dealing with 1 dimensional particles.\n",
    "* We're going to pretend that the masses of both particles are equal. \n",
    "\n",
    "Under these conditions the result of an elastic collision is that the momenta of the two particles simply swap over after the collision as illustrated from the following [wiki](https://en.wikipedia.org/wiki/Elastic_collision) animation:\n",
    "\n",
    "<img src=https://upload.wikimedia.org/wikipedia/commons/c/c6/Elastischer_sto%C3%9F.gif><img>\n",
    "\n",
    "I.e.: \n",
    "$$p_{1}: mv_{1} \\rightarrow mv_2$$ \n",
    "$$p_{2}: mv_{2} \\rightarrow mv_1$$ "
   ]
  },
  {
   "cell_type": "markdown",
   "metadata": {},
   "source": [
    "Our particles are 2d in that they have x and y components for both position and momentum, but if we make sure all the particles we're dealing with have the same y position and have 0 y momenta then they are effectively behaving like 1d particles.\n",
    "\n",
    "Add a method *apply_particle_collision*  that recieves as its arguments two particles and if they overlap alters their momentum along the x-axis in line with an elastic collision.\n",
    "\n",
    "\n",
    "    class Simulation():\n",
    "        def __init__(self, particles, dt, box_length):\n",
    "            self.trajectory = []\n",
    "\n",
    "            pass\n",
    "\n",
    "        def apply_particle_collision(self, particle1, particle2):\n",
    "            pass\n",
    "\n",
    "        def apply_box_collisions(self, particle):\n",
    "            pass\n",
    "\n",
    "        def step(self):\n",
    "            pass\n",
    "\n",
    "        def record_positions(self):\n",
    "            positions = []\n",
    "\n",
    "            pass"
   ]
  },
  {
   "cell_type": "code",
   "execution_count": 66,
   "metadata": {
    "collapsed": true
   },
   "outputs": [],
   "source": [
    "# class Simulation():\n",
    "#     def __init__(self, particles, dt, box_length):\n",
    "#         self.particles = particles\n",
    "#         self.dt = dt\n",
    "#         self.box_length = box_length\n",
    "        \n",
    "#         self.trajectory = []\n",
    "    \n",
    "#     def apply_particle_collisions(self, particle1, particle2):\n",
    "#         if particle1.overlap(particle2):\n",
    "#             p_x1 = particle1.momentum.x\n",
    "#             p_x2 = particle2.momentum.x\n",
    "            \n",
    "#             particle1.momentum.x = p_x2\n",
    "#             particle2.momentum.x = p_x1\n",
    "    \n",
    "#     def apply_box_collisions(self, particle):\n",
    "#         if particle.position.x <0 or particle.position.x > self.box_length:\n",
    "#             particle.momentum.x *= -1.0\n",
    "\n",
    "#         if particle.position.y <0 or particle.position.y > self.box_length:\n",
    "#             particle.momentum.y *= -1.0\n",
    "            \n",
    "#     def step(self):\n",
    "#         for particle in self.particles:\n",
    "#             particle.position = particle.position + particle.velocity() * self.dt\n",
    "#             self.apply_box_collisions(particle)\n",
    "#         self.record_positions()\n",
    "        \n",
    "#     def record_positions(self):\n",
    "#         positions = []\n",
    "        \n",
    "#         for particle in self.particles:\n",
    "#             positions.append(particle.position)\n",
    "#         self.trajectory.append(positions)"
   ]
  },
  {
   "cell_type": "markdown",
   "metadata": {},
   "source": [
    "In the cell below create a few particle objects and check that your method behaves the way you expect it to."
   ]
  },
  {
   "cell_type": "code",
   "execution_count": null,
   "metadata": {
    "collapsed": false
   },
   "outputs": [],
   "source": []
  },
  {
   "cell_type": "markdown",
   "metadata": {},
   "source": [
    "Now we want to add in applying collisions to our step method. But to do that we need to loop over all pairs of particles. Note that we want to avoid colliding particle i with particle j and then also particle j with particle - if we collide the same particles twice we will end up swapping their momenta twice hence undoing the collision.\n",
    "\n",
    "There are several different ways of doing this but perhaps the easiest is to use the function **combinations** from the itertools library. See example below:"
   ]
  },
  {
   "cell_type": "code",
   "execution_count": 68,
   "metadata": {
    "collapsed": false
   },
   "outputs": [
    {
     "name": "stdout",
     "output_type": "stream",
     "text": [
      "1 2\n",
      "1 3\n",
      "1 4\n",
      "1 5\n",
      "2 3\n",
      "2 4\n",
      "2 5\n",
      "3 4\n",
      "3 5\n",
      "4 5\n"
     ]
    }
   ],
   "source": [
    "from itertools import combinations\n",
    "\n",
    "example_list = [1,2,3,4,5]\n",
    "\n",
    "for p1,p2 in combinations(example_list,2):\n",
    "    print(p1,p2)"
   ]
  },
  {
   "cell_type": "markdown",
   "metadata": {},
   "source": [
    "Amend your step method so that it calls apply_particle_collision on all pairs of particles (you will need to import combinations at the top of your simulations.py file)"
   ]
  },
  {
   "cell_type": "code",
   "execution_count": 27,
   "metadata": {
    "collapsed": true
   },
   "outputs": [],
   "source": [
    "# class Simulation():\n",
    "#     def __init__(self, particles, dt, box_length):\n",
    "#         self.particles = particles\n",
    "#         self.dt = dt\n",
    "#         self.box_length = box_length\n",
    "        \n",
    "#         self.trajectory = []\n",
    "    \n",
    "#     def apply_particle_collision(self, particle1, particle2):\n",
    "#         if particle1.overlap(particle2):\n",
    "#             p_x1 = particle1.momentum.x\n",
    "#             p_x2 = particle2.momentum.x\n",
    "            \n",
    "#             particle1.momentum.x = p_x2\n",
    "#             particle2.momentum.x = p_x1\n",
    "    \n",
    "#     def apply_box_collisions(self, particle):\n",
    "#         if particle.position.x <0 or particle.position.x > self.box_length:\n",
    "#             particle.momentum.x *= -1.0\n",
    "\n",
    "#         if particle.position.y <0 or particle.position.y > self.box_length:\n",
    "#             particle.momentum.y *= -1.0\n",
    "            \n",
    "#     def step(self):\n",
    "#         for particle in self.particles:\n",
    "#             particle.position = particle.position + particle.velocity() * self.dt\n",
    "#             self.apply_box_collisions(particle)\n",
    "            \n",
    "#         for particle1, particle2 in combinations(self.particles, 2):\n",
    "#             self.apply_particle_collision(particle1, particle2)\n",
    "            \n",
    "#         self.record_positions()\n",
    "        \n",
    "#     def record_positions(self):\n",
    "#         positions = []\n",
    "        \n",
    "#         for particle in self.particles:\n",
    "#             positions.append(particle.position)\n",
    "#         self.trajectory.append(positions)"
   ]
  },
  {
   "cell_type": "markdown",
   "metadata": {},
   "source": [
    "Test your solution below:"
   ]
  },
  {
   "cell_type": "code",
   "execution_count": 43,
   "metadata": {
    "collapsed": false
   },
   "outputs": [],
   "source": [
    "test_1d_collision()"
   ]
  },
  {
   "cell_type": "markdown",
   "metadata": {},
   "source": [
    "### 2D Collisions"
   ]
  },
  {
   "cell_type": "markdown",
   "metadata": {},
   "source": [
    "Let's move on to 2d collisions! Currently we represent our momentumn in terms of two directions x and y. What we're going to do for our 2d case is to work out a different representation of the momentum in terms of two different directions. We will choose these directions in such a way that the collision will leave the second component completely unchanged, this essentially turns the 2d problem into the 1d problem we solved above.\n",
    "\n",
    "What are these two directions? The first is the direction of the displacement vector between the two particles at the moment they are colliding. We'll call this the *normal axis*,the other will be at 90 degrees to the normal and we'll call the *tangent axis*.\n",
    "\n",
    "What we expect in our simplified case then is that following collision the normal components of the momentum of the particles will swap over.\n",
    "\n",
    "To make this a bit clearer let's look at the following animation from [wiki](https://en.wikipedia.org/wiki/Elastic_collision):\n",
    "\n",
    "<img src=https://upload.wikimedia.org/wikipedia/commons/2/2c/Elastischer_sto%C3%9F_2D.gif></img>\n",
    "\n",
    "What you are seeing is one particle in motion and another at rest. At the point where the two particles collide, the animation displays the normal and tangent axes as perpendicular black lines. \n",
    "\n",
    "The momentum of the moving particle (displayed as a red arrow) is then expressed as components along these two axes (these are displayed as two blue arrows).\n",
    "\n",
    "The stationary particle has no momentum which means, which means that both components are zero.\n",
    "\n",
    "After the collision the two particles swap normal components.\n",
    "\n",
    "For the initially moving particle, the normal component becomes zero, leaving only its initial tangent component contributing to its final momentum. \n",
    "\n",
    "For the initially stationary particle, the initial tangent component is zero so the final momentum is equal to the normal component of initially moving particle prior to collision.\n",
    "\n",
    "If this is unclear please ask a demonstrator."
   ]
  },
  {
   "cell_type": "markdown",
   "metadata": {},
   "source": [
    "## Computing the components of the momentum along the normal and tangent axes"
   ]
  },
  {
   "cell_type": "markdown",
   "metadata": {},
   "source": [
    "Luckily our vector class includes all the necessary methods to calculate the normal and tangent axes and express the momentum in terms of components along them."
   ]
  },
  {
   "cell_type": "markdown",
   "metadata": {},
   "source": [
    "To workout the component of a vector along a particular axis. We need only calculate the dot product of the vector with that particular axis multipled by the axis itself.\n",
    "\n",
    "E.g. to calculate the component of a particular vector *vec* along the x-axis we would compute:\n",
    "    \n",
    "    vec = Vector(3,4)\n",
    "\n",
    "    xaxis = Vector(1,0)\n",
    "    vec_proj_x = xaxis * vec.dot(xaxis)\n",
    "    print(vec_proj_x)"
   ]
  },
  {
   "cell_type": "code",
   "execution_count": null,
   "metadata": {
    "collapsed": false
   },
   "outputs": [],
   "source": []
  },
  {
   "cell_type": "markdown",
   "metadata": {},
   "source": [
    "Like wise to calculate the component of a vector *vec* along the y-axis we would compute:\n",
    "    \n",
    "    yaxis = Vector(0,1)\n",
    "    vec_proj_y = yaxis * vec.dot(yaxis)\n",
    "    print(vec_proj_y)"
   ]
  },
  {
   "cell_type": "code",
   "execution_count": 49,
   "metadata": {
    "collapsed": true
   },
   "outputs": [],
   "source": []
  },
  {
   "cell_type": "markdown",
   "metadata": {},
   "source": [
    "Of course for x and y we have an easier option for working out the magnitude of along the x and y axes: we can simply use the .x and .y attributes. However this only works for x and y, whereas our general dot product approach works for any axes with might like to consider.\n",
    "\n",
    "    new_axis = Vector(0.6,0.8)\n",
    "    vec_proj_new_axis = new_axis * vec.dot(new_axis)\n",
    "    print(vec_proj_new_axis)"
   ]
  },
  {
   "cell_type": "code",
   "execution_count": null,
   "metadata": {
    "collapsed": true
   },
   "outputs": [],
   "source": []
  },
  {
   "cell_type": "markdown",
   "metadata": {},
   "source": [
    "An important point to bear in mind is that an axis vector **must always have a length of 1**. If we have a vector whose direction we would like to use as an axis, we must first shrink it's length to 1 whilst keeping its direction the same (known as normalisation). To do this we can divide the vector by its own length:\n",
    "\n",
    "    normalised_vec = vec/vec.norm()\n",
    "    print(vec)\n",
    "    print(normalised_vec)"
   ]
  },
  {
   "cell_type": "code",
   "execution_count": null,
   "metadata": {
    "collapsed": true
   },
   "outputs": [],
   "source": []
  },
  {
   "cell_type": "markdown",
   "metadata": {},
   "source": [
    "Having chosen one axis we can work out the component along an axis at 90 degrees to our chosen one by subtracting the component along our chosen axis from our vector.\n",
    "\n",
    "    new_xaxis = Vector(0.6,0.8)\n",
    "    vec_proj_newx = new_xaxis * vec.dot(new_xaxis)\n",
    "    vec_proj_newy = vec - vec_proj_newx"
   ]
  },
  {
   "cell_type": "code",
   "execution_count": null,
   "metadata": {
    "collapsed": true
   },
   "outputs": [],
   "source": []
  },
  {
   "cell_type": "markdown",
   "metadata": {},
   "source": [
    "We now have assembled all the pieces we need to update our apply_particle_collision method for 2d collisions.\n",
    "\n",
    "For colliding particles you will want to: \n",
    "\n",
    "* compute the normal axis\n",
    "* compute the projection of the momentum onto the normal and tangent axes\n",
    "* update the normal projected momentum in light of the collision\n",
    "* compute  the new total momentum\n",
    "\n",
    "Have a go updating your simulation class then execute the cell below to test your code."
   ]
  },
  {
   "cell_type": "code",
   "execution_count": 29,
   "metadata": {
    "collapsed": true
   },
   "outputs": [],
   "source": [
    "# class Simulation():\n",
    "#     def __init__(self, particles, box_length, dt):\n",
    "#         self.particles = particles\n",
    "#         self.box_length = box_length\n",
    "#         self.dt = dt\n",
    "        \n",
    "#         self.trajectory = []\n",
    "    \n",
    "#     def apply_particle_collision(self, particle1, particle2):\n",
    "#         if particle1.overlap(particle2):\n",
    "#             #define unit normal\n",
    "#             normal = particle1.position - particle2.position\n",
    "#             unit_normal = normal / normal.norm()\n",
    "\n",
    "#             p1_n_mv = unit_normal * particle1.momentum.dot(unit_normal)\n",
    "#             p1_t_mv = particle1.momentum - p1_n_mv\n",
    "\n",
    "#             p2_n_mv = unit_normal * particle2.momentum.dot(unit_normal)\n",
    "#             p2_t_mv = particle2.momentum - p2_n_mv\n",
    "\n",
    "#             #update particle momenta\n",
    "#             particle1.momentum = p1_t_mv + p2_n_mv\n",
    "#             particle2.momentum = p2_t_mv + p1_n_mv\n",
    "            \n",
    "#     def apply_box_collisions(self, particle):\n",
    "#         if particle.position.x <0 or particle.position.x > self.box_length:\n",
    "#             particle.momentum.x *= -1.0\n",
    "\n",
    "#         if particle.position.y <0 or particle.position.y > self.box_length:\n",
    "#             particle.momentum.y *= -1.0\n",
    "            \n",
    "#     def step(self):\n",
    "#         for particle in self.particles:\n",
    "#             particle.position = particle.position + particle.velocity() * self.dt\n",
    "#             self.apply_box_collisions(particle)\n",
    "            \n",
    "#         for particle1, particle2 in combinations(self.particles, 2):\n",
    "#             self.apply_particle_collision(particle1, particle2)\n",
    "            \n",
    "#         self.record_positions()\n",
    "        \n",
    "#     def record_positions(self):\n",
    "#         positions = []\n",
    "        \n",
    "#         for particle in self.particles:\n",
    "#             positions.append(particle.position)\n",
    "#         self.trajectory.append(positions)"
   ]
  },
  {
   "cell_type": "code",
   "execution_count": null,
   "metadata": {
    "collapsed": true
   },
   "outputs": [],
   "source": [
    "test_2d_collision()"
   ]
  },
  {
   "cell_type": "code",
   "execution_count": 21,
   "metadata": {
    "collapsed": false
   },
   "outputs": [],
   "source": [
    "box_length = 100\n",
    "no_steps = 150\n",
    "\n",
    "p1 = Particle(position = Vector(20,20), momentum=Vector(0,1),radius=1,mass=1)\n",
    "p2 = Particle(position = Vector(20,25), momentum=Vector(0,0),radius=1,mass=1)\n",
    "p3 = Particle(position = Vector(50,20), momentum=Vector(1,1),radius=1,mass=1)\n",
    "p4 = Particle(position = Vector(55,25), momentum=Vector(0,0),radius=1,mass=1)\n",
    "p5 = Particle(position = Vector(20,55), momentum=Vector(1,0),radius=1,mass=1)\n",
    "p6 = Particle(position = Vector(25,50), momentum=Vector(0,1),radius=1,mass=1)\n",
    "p7 = Particle(position = Vector(50,50), momentum=Vector(1,0),radius=1,mass=1)\n",
    "p8 = Particle(position = Vector(55,50), momentum=Vector(0,0),radius=1,mass=1)\n",
    "\n",
    "test_case = [p1,p2,p3,p4,p5,p6,p7,p8]\n",
    "s=Simulation(particles=test_case,box_length=100,dt=0.1)\n",
    "\n",
    "for i in range(no_steps):\n",
    "    s.step()\n",
    "animate_trajectory(s,loop=True)"
   ]
  },
  {
   "cell_type": "code",
   "execution_count": 30,
   "metadata": {
    "collapsed": false
   },
   "outputs": [],
   "source": [
    "sim_case = []\n",
    "\n",
    "box_length = 100\n",
    "no_steps = 1000\n",
    "no_particles = 200\n",
    "\n",
    "for i in range(no_particles):\n",
    "    x = np.random.random()*box_length\n",
    "    y = np.random.random()*box_length\n",
    "\n",
    "    mx = 0.5 * box_length*3\n",
    "    my = 0.5 * box_length*3\n",
    "\n",
    "    position_vector = Vector(x,y)\n",
    "    momentum_vector = Vector(mx,my)\n",
    "\n",
    "    p = Particle(position=position_vector, momentum=momentum_vector,radius=2.,mass=1.)\n",
    "    sim_case.append(p)\n",
    "\n",
    "s=Simulation(no_particles=no_particles,box_length=box_length,no_steps=no_steps,dt=0.001, particles=sim_case)"
   ]
  },
  {
   "cell_type": "code",
   "execution_count": 50,
   "metadata": {
    "collapsed": false
   },
   "outputs": [
    {
     "ename": "AttributeError",
     "evalue": "'Simulation' object has no attribute 'box_length'",
     "output_type": "error",
     "traceback": [
      "\u001b[1;31m---------------------------------------------------------------------------\u001b[0m",
      "\u001b[1;31mAttributeError\u001b[0m                            Traceback (most recent call last)",
      "\u001b[1;32m<ipython-input-50-97278259dca5>\u001b[0m in \u001b[0;36m<module>\u001b[1;34m()\u001b[0m\n\u001b[1;32m----> 1\u001b[1;33m \u001b[0manimate_trajectory\u001b[0m\u001b[1;33m(\u001b[0m\u001b[0ms\u001b[0m\u001b[1;33m)\u001b[0m\u001b[1;33m\u001b[0m\u001b[0m\n\u001b[0m",
      "\u001b[1;32m/home/clyde/Dropbox/Project Stuff/Teaching/Python/imperialchem/python-prog-oo/oo_functions.py\u001b[0m in \u001b[0;36manimate_trajectory\u001b[1;34m(s, loop)\u001b[0m\n\u001b[0;32m     14\u001b[0m         \u001b[0mno_steps\u001b[0m \u001b[1;33m=\u001b[0m \u001b[0mlen\u001b[0m\u001b[1;33m(\u001b[0m\u001b[0ms\u001b[0m\u001b[1;33m.\u001b[0m\u001b[0mtrajectory\u001b[0m\u001b[1;33m)\u001b[0m\u001b[1;33m\u001b[0m\u001b[0m\n\u001b[0;32m     15\u001b[0m         \u001b[0mparticle_size\u001b[0m \u001b[1;33m=\u001b[0m \u001b[0ms\u001b[0m\u001b[1;33m.\u001b[0m\u001b[0mparticles\u001b[0m\u001b[1;33m[\u001b[0m\u001b[1;36m0\u001b[0m\u001b[1;33m]\u001b[0m\u001b[1;33m.\u001b[0m\u001b[0mradius\u001b[0m \u001b[1;33m*\u001b[0m \u001b[1;36m12\u001b[0m\u001b[1;33m\u001b[0m\u001b[0m\n\u001b[1;32m---> 16\u001b[1;33m         \u001b[0mlength\u001b[0m \u001b[1;33m=\u001b[0m \u001b[0ms\u001b[0m\u001b[1;33m.\u001b[0m\u001b[0mbox_length\u001b[0m \u001b[1;33m/\u001b[0m\u001b[1;36m10\u001b[0m\u001b[1;33m\u001b[0m\u001b[0m\n\u001b[0m\u001b[0;32m     17\u001b[0m         \u001b[0mfig\u001b[0m \u001b[1;33m=\u001b[0m \u001b[0mplt\u001b[0m\u001b[1;33m.\u001b[0m\u001b[0mfigure\u001b[0m\u001b[1;33m(\u001b[0m\u001b[0mfigsize\u001b[0m\u001b[1;33m=\u001b[0m\u001b[1;33m(\u001b[0m\u001b[0mlength\u001b[0m\u001b[1;33m,\u001b[0m\u001b[0mlength\u001b[0m\u001b[1;33m)\u001b[0m\u001b[1;33m)\u001b[0m\u001b[1;33m\u001b[0m\u001b[0m\n\u001b[0;32m     18\u001b[0m \u001b[1;33m\u001b[0m\u001b[0m\n",
      "\u001b[1;31mAttributeError\u001b[0m: 'Simulation' object has no attribute 'box_length'"
     ]
    }
   ],
   "source": [
    "animate_trajectory(s)"
   ]
  }
 ],
 "metadata": {
  "kernelspec": {
   "display_name": "Python 3",
   "language": "python",
   "name": "python3"
  },
  "language_info": {
   "codemirror_mode": {
    "name": "ipython",
    "version": 3
   },
   "file_extension": ".py",
   "mimetype": "text/x-python",
   "name": "python",
   "nbconvert_exporter": "python",
   "pygments_lexer": "ipython3",
   "version": "3.5.1"
  }
 },
 "nbformat": 4,
 "nbformat_minor": 0
}
