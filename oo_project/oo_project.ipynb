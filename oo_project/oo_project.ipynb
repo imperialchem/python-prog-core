{
 "cells": [
  {
   "cell_type": "markdown",
   "metadata": {},
   "source": [
    "# Project"
   ]
  },
  {
   "cell_type": "markdown",
   "metadata": {},
   "source": [
    "In this workshop we will work on a project to construct a simulation of a gas in a 2d box. You may have seen something similar on your lectures though here our simulation will be a bit simpler.\n",
    "\n",
    "We will be simulating an ideal gas so particles will collide with each other and the walls of the box in a perfectly elastic manner. The aim will be to simulate N particles, in a box of size L x L, given some initial conditions, namely the positions and momementa of the particles involved.\n",
    "\n",
    "Once we have our simulation up and running we'll check the distribution of speeds and see if it corresponds to the distribution predicted by the 2d version of the Maxwell-Boltzmann distribution."
   ]
  },
  {
   "cell_type": "markdown",
   "metadata": {},
   "source": [
    "Rather than working directly in the notebook we will build our classes inside a file: gas.py using an editor we'll then visualise and test the code inside the notebook. To do that we'll need to execute a few helper utilities. Which will mean as soon as we update the code in our file it will be available within the notebook. Please execute these utilities in the cell below:"
   ]
  },
  {
   "cell_type": "code",
   "execution_count": 1,
   "metadata": {
    "collapsed": false
   },
   "outputs": [],
   "source": [
    "%load_ext autoreload\n",
    "%autoreload 2"
   ]
  },
  {
   "cell_type": "code",
   "execution_count": 2,
   "metadata": {
    "collapsed": true
   },
   "outputs": [],
   "source": [
    "%matplotlib inline"
   ]
  },
  {
   "cell_type": "markdown",
   "metadata": {},
   "source": [
    "We've also provided some helper functions to visualise the simulation that you will construct and a slightly expanded Vector class that we will make use of."
   ]
  },
  {
   "cell_type": "code",
   "execution_count": 3,
   "metadata": {
    "collapsed": false
   },
   "outputs": [],
   "source": [
    "import numpy as np\n",
    "from oo_functions import animate_trajectory, display_particle, display_vecs, display_trajectory, Vector\n",
    "from gas_2d import Particle, Simulation"
   ]
  },
  {
   "cell_type": "markdown",
   "metadata": {},
   "source": [
    "Open gas.py by using the Python editor Spyder (you can find it in your list of programs). Inside gas.py you will find three class definitions, Vector, Particle and Simulation. \n",
    "\n",
    "Vector is already filled out and is much the same as the Vector class we developed in workshop 1 with a few additional methods that means we can add, subtract, multiply and divide our vectors using the usual +-/* operators. Particle and Simulation are just the outlines of the class. You will need to replace *pass* with code as you as you progress through the project."
   ]
  },
  {
   "cell_type": "code",
   "execution_count": null,
   "metadata": {
    "collapsed": true
   },
   "outputs": [],
   "source": []
  },
  {
   "cell_type": "markdown",
   "metadata": {},
   "source": [
    "## Building a Particle Class"
   ]
  },
  {
   "cell_type": "markdown",
   "metadata": {},
   "source": [
    "The first class we need to fill out is the Particle class which will unsurprisingly represents *drum roll* particles. Once we can create particle objects we can start building our Simulation class which will represent the total simulation and will include multiple Particle objects.\n",
    "\n",
    "For our purposes the properties that define a single particle will be position momentum, mass and radius. In the skeleton of the class below replace *pass* with code so that the particle class has position/momentum/radius attributes. We will want a method *velocity* which will return the velocity of the particle (recall that our expanded Vector class allows us to divide vectors by scalars). We will also want a method *copy* which will return an identical copy of the Particle shown below is a skeleton of the class we want to construct. Edit gas.py by filling out the particle class. (Once saved it should automatically be available to the notebook.\n",
    "\n",
    "    class Particle():\n",
    "        def __init__(self, position, momentum, radius, mass):\n",
    "            pass\n",
    "\n",
    "        def velocity(self):\n",
    "            pass\n",
    "            \n",
    "        def copy(self):\n",
    "            pass"
   ]
  },
  {
   "cell_type": "markdown",
   "metadata": {},
   "source": [
    "We've created some helper functions for this workshop that will help with visualisation. One function is called display_particle. In the cell below use your particle class to create a particle object and then use the display_particle function on it to display it. \n",
    "\n",
    "In order to initialise your particle you'll need to create two vectors one for position and one for momentum and provide your particle with a radius and a mass."
   ]
  },
  {
   "cell_type": "code",
   "execution_count": null,
   "metadata": {
    "collapsed": false
   },
   "outputs": [],
   "source": []
  },
  {
   "cell_type": "markdown",
   "metadata": {},
   "source": [
    "A plot showing your particle should have popped up. Bask in the glory of the particle you have created."
   ]
  },
  {
   "cell_type": "markdown",
   "metadata": {},
   "source": [
    "## Making our particle move"
   ]
  },
  {
   "cell_type": "markdown",
   "metadata": {},
   "source": [
    "Ok now we can create individual particles but they aren't doing too much, let's try generate a trajectory. As our particle is a free particle experiencing no forces the momentum will not change with time. The position however will change. In a small amount of time dt the position will change via:\n",
    "\n",
    "$$S_{t+1}=S_{t}+V.dt$$\n",
    "\n",
    "Where S is the position, V is velocity and t is the t-th time step.\n",
    "\n",
    "To generate a trajectory we are going to run our simulation for a certain number of time steps, during each step we will use the velocity to update the position and then we'll record the position in a list.\n",
    "\n",
    "Fill out the cell so that during each iteration the particle's position is updated, you'll also want to append a copy of the particle to the trajectory list so that we have a record of the particle at every time step."
   ]
  },
  {
   "cell_type": "code",
   "execution_count": 2,
   "metadata": {
    "collapsed": true
   },
   "outputs": [],
   "source": [
    "no_steps = 1000\n",
    "dt = 0.01\n",
    "\n",
    "trajectory = []\n",
    "for step in range(no_steps):\n",
    "    pass"
   ]
  },
  {
   "cell_type": "markdown",
   "metadata": {},
   "source": [
    "Use the display_trajectory function on the positions list to view the motion of your particle"
   ]
  },
  {
   "cell_type": "code",
   "execution_count": 5,
   "metadata": {
    "collapsed": false
   },
   "outputs": [],
   "source": [
    "display_trajectory(trajectory)"
   ]
  },
  {
   "cell_type": "markdown",
   "metadata": {},
   "source": [
    "## Building a Simulation class"
   ]
  },
  {
   "cell_type": "markdown",
   "metadata": {},
   "source": [
    "Great! We're going to take a step sideways now and introduce our main simulation class. The code you wrote above calculated the position of a single particle for multiple time steps.\n",
    "\n",
    "This time we're going to have many particles but we're only going to calculate their position for a single time step. Below is a skeleton for our simulation class, it will be initialised with a list of particles, a number box_length and another number dt. It includes a method *step* which is where the action takes place. The step method should loop over every particle and update the particle's position using it's momementum and the small amount time dt.\n",
    "\n",
    "    class Simulation():\n",
    "        def __init__(self, particles, box_length, dt):\n",
    "            pass\n",
    "\n",
    "        def step(self):\n",
    "            pass"
   ]
  },
  {
   "cell_type": "markdown",
   "metadata": {},
   "source": [
    "Test your simulation class using the code below (we're printing out the y coordinate of the first particle at the start of the simulation and after we have updated the positions). Do you understand what's being printed out?"
   ]
  },
  {
   "cell_type": "code",
   "execution_count": 7,
   "metadata": {
    "collapsed": false
   },
   "outputs": [
    {
     "name": "stdout",
     "output_type": "stream",
     "text": [
      "0\n",
      "1.0\n",
      "2.0\n"
     ]
    }
   ],
   "source": [
    "particles = [Particle(Vector(0.5,0),Vector(0,1),1,1),\n",
    "             Particle(Vector(0.5,1),Vector(0,-1),1,1),\n",
    "             Particle(Vector(0,0), Vector(0.5,0.5),1,1)]\n",
    "\n",
    "s=Simulation(particles, 100,1)\n",
    "\n",
    "print(s.particles[0].position.y)\n",
    "s.step()\n",
    "print(s.particles[0].position.y)\n",
    "s.step()\n",
    "print(s.particles[0].position.y)"
   ]
  },
  {
   "cell_type": "markdown",
   "metadata": {},
   "source": [
    "## Recording the state of the simulation"
   ]
  },
  {
   "cell_type": "markdown",
   "metadata": {},
   "source": [
    "We also want to record the state of the particles so we can have a look at the trajectories our particles have taken during the simulation and process our data.\n",
    "\n",
    "The cell below shows another simulation class skeleton, which has added a record_state method. This method should loop over all the particles and append a copy of them position to the state list. Once done it should append the state list to the trajectory attribute. You'll want to call the record_state method at the end of step method so that every time we update the particles we record them. Update your Simulation class to include the record_state method and call it from your step method.\n",
    "\n",
    "    class Simulation():\n",
    "        def __init__(self, particles, box_length, dt):\n",
    "            self.trajectory = []\n",
    "\n",
    "        def step(self):\n",
    "            pass\n",
    "\n",
    "        def record_state(self):\n",
    "            state = []"
   ]
  },
  {
   "cell_type": "markdown",
   "metadata": {},
   "source": [
    "Test your code using the cell below:"
   ]
  },
  {
   "cell_type": "code",
   "execution_count": 4,
   "metadata": {
    "collapsed": false
   },
   "outputs": [],
   "source": [
    "particles = [Particle(Vector(10,0),Vector(0,0.75),1,1),\n",
    "             Particle(Vector(50,10),Vector(0,0.5),1,1),\n",
    "             Particle(Vector(0,0), Vector(0.5,0.75),1,1)]\n",
    "\n",
    "no_steps = 300\n",
    "\n",
    "s=Simulation(particles, 100, 0.5)\n",
    "for i in range(no_steps):\n",
    "    s.step()\n",
    "\n",
    "animate_trajectory(s)"
   ]
  },
  {
   "cell_type": "markdown",
   "metadata": {},
   "source": [
    "## Automatically constructing Particle objects"
   ]
  },
  {
   "cell_type": "markdown",
   "metadata": {},
   "source": [
    "Rather than manually defining particles let's construct a helper function *get_particles* that will generate an initial list of particles for us. The function will take two arguments, the number of particles we are creating and the length of the (square) box they are going to be in. It should return a list of particles each with a random position within the box and a random momenta. \n",
    "\n",
    "You'll want the function to assign momenta with components varying between -0.5 and 0.5 and positions with components between varying between 0.1$*$boxlength and 0.9$*$ boxlength\n",
    "\n",
    "To make your function you'll need a way to generate some random numbers, fortunately there is a function *random* that does just this within the numpy library. Fill out the get_particles function below and se this function to simulate 100 particles for 500 time steps with dt set to 0.1. Finally pass your simulation object to the animate_trajectory function to see your simulation."
   ]
  },
  {
   "cell_type": "code",
   "execution_count": 14,
   "metadata": {
    "collapsed": true
   },
   "outputs": [],
   "source": [
    "from numpy.random import random\n",
    "\n",
    "def get_particles(no_particles, box_length):\n",
    "    pass"
   ]
  },
  {
   "cell_type": "markdown",
   "metadata": {},
   "source": [
    "# Collisions"
   ]
  },
  {
   "cell_type": "markdown",
   "metadata": {},
   "source": [
    "We're making great progress but our simulation faces two problems:\n",
    "\n",
    "   * Our particles pass through the boundaries of our box\n",
    "   * Our particles pass through each other.\n",
    "   \n",
    "Let's focus on the boundaries problem to begin with. First execute the simple test we have below involving particles going through the boundary. We'll use this to test our code is behaving the way we want."
   ]
  },
  {
   "cell_type": "markdown",
   "metadata": {},
   "source": [
    "## Boundary Collision"
   ]
  },
  {
   "cell_type": "code",
   "execution_count": 61,
   "metadata": {
    "collapsed": false
   },
   "outputs": [],
   "source": [
    "def test_box():\n",
    "    box_length = 100\n",
    "    no_steps = 300\n",
    "    \n",
    "    p1 = Particle(position=Vector(10,50), momentum=Vector(-1,0),radius=1,mass=1)\n",
    "    p2 = Particle(position=Vector(50,90), momentum=Vector(0,1) ,radius=1,mass=1)\n",
    "    p3 = Particle(position=Vector(50,10), momentum=Vector(0,-1),radius=1,mass=1)\n",
    "    p4 = Particle(position=Vector(90,50), momentum=Vector(1,0) ,radius=1,mass=1)\n",
    "\n",
    "    box_particles = [p1,p2,p3,p4]\n",
    "\n",
    "    s = Simulation(box_particles, box_length=100, dt=0.1)\n",
    "    for i in range(300):\n",
    "        s.step()\n",
    "    animate_trajectory(s,loop=True)\n",
    "\n",
    "test_box()"
   ]
  },
  {
   "cell_type": "markdown",
   "metadata": {},
   "source": [
    "Ok, let's update our simulation class so that instead of passing through our box they bounce off the edges. Our simulation class will now make use of the previously unused attribute *box_length* and it will need an additional method *apply_box_collisions*.\n",
    "\n",
    "At the moment our particles' momenta remain unaltered no matter what happens. But we would like the momentum of a particle along the x-axis to reverse if it goes past the sides of our box, likewise we would like the momentum of a particle along the y-axis to reverse if it goes past the top or the bottom of our box.\n",
    "\n",
    "Try implementing an apply_box_collisions method as outlined in the skeleton below. This method will recieve as it's argument a particle and then it will check whether that particle is past the boundaries of the box and if it is change it's momentum accordingly.\n",
    "\n",
    "We'll then add in a call to apply_box_collisions in our step method that loops over all the particles.\n",
    "\n",
    "    class Simulation():\n",
    "        def __init__(self, particles, box_length, dt):        \n",
    "            self.trajectory = []\n",
    "\n",
    "            pass\n",
    "\n",
    "        def apply_box_collisions(self, particle):\n",
    "            pass\n",
    "\n",
    "        def step(self):\n",
    "            pass\n",
    "\n",
    "        def record_state(self):\n",
    "            positions = []\n",
    "\n",
    "            pass"
   ]
  },
  {
   "cell_type": "markdown",
   "metadata": {},
   "source": [
    "Test your simulation class by executing the cell below"
   ]
  },
  {
   "cell_type": "code",
   "execution_count": 62,
   "metadata": {
    "collapsed": false
   },
   "outputs": [],
   "source": [
    "test_box()"
   ]
  },
  {
   "cell_type": "markdown",
   "metadata": {},
   "source": [
    "## Particle Collisions"
   ]
  },
  {
   "cell_type": "markdown",
   "metadata": {},
   "source": [
    "Ok the final problem and the most challenging is implementing interparticle collisions. First the following test cases:"
   ]
  },
  {
   "cell_type": "code",
   "execution_count": 63,
   "metadata": {
    "collapsed": false
   },
   "outputs": [],
   "source": [
    "def test_1d_collision():\n",
    "    box_length = 100\n",
    "    no_steps = 300\n",
    "\n",
    "    p1 = Particle(position = Vector(10,10), momentum=Vector(1,0),radius=1,mass=1)\n",
    "    p2 = Particle(position = Vector(20,10), momentum=Vector(0,0) ,radius=1,mass=1)\n",
    "    \n",
    "    test_case = [p1,p2]\n",
    "    s=Simulation(particles=test_case,box_length=100,dt=0.05)\n",
    "\n",
    "    for i in range(500):\n",
    "        s.step()\n",
    "    animate_trajectory(s,loop=True)\n",
    "\n",
    "test_1d_collision()"
   ]
  },
  {
   "cell_type": "code",
   "execution_count": 64,
   "metadata": {
    "collapsed": true
   },
   "outputs": [],
   "source": [
    "def test_2d_collision():\n",
    "    box_length = 100\n",
    "    no_steps = 300\n",
    "\n",
    "    p1 = Particle(position = Vector(10,10), momentum=Vector(1,0.5),radius=1,mass=1)\n",
    "    p2 = Particle(position = Vector(20,15), momentum=Vector(0,0) ,radius=1,mass=1)\n",
    "    \n",
    "    test_case = [p1,p2]\n",
    "    s=Simulation(particles=test_case,box_length=100,dt=0.05)\n",
    "\n",
    "    for i in range(500):\n",
    "        s.step()\n",
    "    animate_trajectory(s,loop=True)\n",
    "\n",
    "test_2d_collision()"
   ]
  },
  {
   "cell_type": "markdown",
   "metadata": {},
   "source": [
    "### Enhancing the Particle class"
   ]
  },
  {
   "cell_type": "markdown",
   "metadata": {},
   "source": [
    "One thing that will make our life easier is if we add another method to our particle class. In order to check whether two particles are going to collide we need to check whether they overlap. So we'll want to add an overlap method to our Particle class, this method will recieve as it's second argument another particle (as always the first argument a method recieves is always self). Our method will then return True if the distance between this other particle and itself is less than the sum of the two particle's radii otherwise it will return False. Extend the class in gas.py in accordance with the class skeleton below:\n",
    "\n",
    "    class Particle():\n",
    "        def __init__(self, position, momentum, radius, mass):\n",
    "            pass\n",
    "\n",
    "        def velocity(self):\n",
    "            pass\n",
    "        \n",
    "        def copy(self):\n",
    "            pass\n",
    "            \n",
    "        def overlap(self, other_particle):\n",
    "            pass"
   ]
  },
  {
   "cell_type": "markdown",
   "metadata": {},
   "source": [
    "In the cell below create some particle objects and see if your overlap method behaves the way you expect it to."
   ]
  },
  {
   "cell_type": "code",
   "execution_count": null,
   "metadata": {
    "collapsed": true
   },
   "outputs": [],
   "source": []
  },
  {
   "cell_type": "markdown",
   "metadata": {},
   "source": [
    "### 1D collisions"
   ]
  },
  {
   "cell_type": "markdown",
   "metadata": {
    "collapsed": true
   },
   "source": [
    "Ok so now we can think about the collisions themselves. We're going to focus on perfectly elastic collisions and to start with we're going to make two additional simplifications: \n",
    "\n",
    "* We're going to pretend that we're dealing with 1 dimensional particles that only move along the x-axis.\n",
    "* We're going to pretend that the masses of both particles are equal. \n",
    "\n",
    "Under these conditions the result of an elastic collision is that the momenta of the two particles simply swap over after the collision as illustrated from the following [wiki](https://en.wikipedia.org/wiki/Elastic_collision) animation:\n",
    "\n",
    "<img src=https://upload.wikimedia.org/wikipedia/commons/c/c6/Elastischer_sto%C3%9F.gif><img>\n",
    "\n",
    "I.e.: \n",
    "$$p_{1}: mv_{1} \\rightarrow mv_2$$ \n",
    "$$p_{2}: mv_{2} \\rightarrow mv_1$$ "
   ]
  },
  {
   "cell_type": "markdown",
   "metadata": {},
   "source": [
    "Our particles are 2d as they have both x and y components for position and momentum, but if we make sure all the particles we're dealing with have the same y position and have 0 y momenta then they are effectively behaving like 1d particles.\n",
    "\n",
    "Add a method *apply_particle_collision* to your simulation class that recieves as its arguments two particles and if they overlap alters their momentum along the x-axis in line with an elastic collision.\n",
    "\n",
    "\n",
    "    class Simulation():\n",
    "        def __init__(self, particles, dt, box_length):\n",
    "            self.trajectory = []\n",
    "\n",
    "            pass\n",
    "\n",
    "        def apply_particle_collision(self, particle1, particle2):\n",
    "            pass\n",
    "\n",
    "        def apply_box_collisions(self, particle):\n",
    "            pass\n",
    "\n",
    "        def step(self):\n",
    "            pass\n",
    "\n",
    "        def record_state(self):\n",
    "            positions = []\n",
    "\n",
    "            pass"
   ]
  },
  {
   "cell_type": "markdown",
   "metadata": {},
   "source": [
    "In the cell below create a few particle objects and check that your method behaves the way you expect it to."
   ]
  },
  {
   "cell_type": "code",
   "execution_count": null,
   "metadata": {
    "collapsed": false
   },
   "outputs": [],
   "source": []
  },
  {
   "cell_type": "markdown",
   "metadata": {},
   "source": [
    "Now we want to add in applying collisions to our step method. But to do that we need to loop over all pairs of particles. Note that we want to avoid colliding particle i with particle j and then also seperately colliding particle j with particle i - if we collide the same particles twice we will end up swapping their momenta twice hence undoing the collision.\n",
    "\n",
    "There are several different ways of looping over pairs, but perhaps the easiest is to use the function **combinations** from the itertools library. See example below:"
   ]
  },
  {
   "cell_type": "code",
   "execution_count": null,
   "metadata": {
    "collapsed": false
   },
   "outputs": [],
   "source": [
    "from itertools import combinations\n",
    "\n",
    "example_list = [1,2,3,4,5]\n",
    "for p1,p2 in combinations(example_list,2):\n",
    "    print(p1,p2)"
   ]
  },
  {
   "cell_type": "markdown",
   "metadata": {},
   "source": [
    "Amend your step method so that it calls apply_particle_collision on all pairs of particles (you will need to import combinations at the top of your gas.py file)  and test your solution below:"
   ]
  },
  {
   "cell_type": "code",
   "execution_count": 43,
   "metadata": {
    "collapsed": false
   },
   "outputs": [],
   "source": [
    "test_1d_collision()"
   ]
  },
  {
   "cell_type": "markdown",
   "metadata": {},
   "source": [
    "Since we've started adding more to our step method now is a good time to tidy it up a bit by creating an *update_position* method, moving the code that updates the positions from the step to update_postion and then calling that update_posistion from inside the step method.\n",
    "\n",
    "    class Simulation():\n",
    "        def __init__(self, particles, dt, box_length):\n",
    "            self.trajectory = []\n",
    "\n",
    "            pass\n",
    "\n",
    "        def apply_particle_collision(self, particle1, particle2):\n",
    "            pass\n",
    "\n",
    "        def apply_box_collisions(self, particle):\n",
    "            pass\n",
    "\n",
    "        def update_positions(self, particle):\n",
    "            pass\n",
    "            \n",
    "        def step(self):\n",
    "            pass\n",
    "\n",
    "        def record_state(self):\n",
    "            positions = []\n",
    "\n",
    "            pass\n",
    "            \n",
    "This process of reorganising code to make it clearer and easier to modify is known as **refactoring** and is an extremely important part of programming that is often overlooked by beginner programmers. We came across it before when we changed the Molecule class from being componsed of lists of different symbols, vectors and properties to being composed of a lists of Atom objects.\n",
    "\n",
    "Make sure your refactor didn't break your code by re-executing the test_case below:"
   ]
  },
  {
   "cell_type": "code",
   "execution_count": null,
   "metadata": {
    "collapsed": true
   },
   "outputs": [],
   "source": [
    "test_1d_collision()"
   ]
  },
  {
   "cell_type": "markdown",
   "metadata": {},
   "source": [
    "### 2D Collisions"
   ]
  },
  {
   "cell_type": "markdown",
   "metadata": {},
   "source": [
    "Let's move on to 2d collisions! Currently we represent our momentumn in terms of two directions x and y. What we're going to do for our 2d case is to work out a different representation of the momentum in terms of two different directions. We will choose these directions in such a way that the collision will leave the second component completely unchanged, this essentially turns the 2d problem into the 1d problem we already know how to solve.\n",
    "\n",
    "What are these two directions? The first is the direction of the displacement vector between the two particles at the moment they are colliding. We'll call this the *normal axis*,the other will be at 90 degrees to the normal and we'll call the *tangent axis*.\n",
    "\n",
    "What we expect in our simplified case then is that following collision the normal components of the momentum of the particles will swap over whilst the tangent components will remain unchanged.\n",
    "\n",
    "To make this a bit clearer let's look at the following animation from [wiki](https://en.wikipedia.org/wiki/Elastic_collision):\n",
    "\n",
    "<img src=https://upload.wikimedia.org/wikipedia/commons/2/2c/Elastischer_sto%C3%9F_2D.gif></img>\n",
    "\n",
    "What you are seeing is one particle in motion and another at rest. At the point where the two particles collide, the animation displays the normal and tangent axes as perpendicular black lines. \n",
    "\n",
    "The momentum of the moving particle (displayed as a red arrow) is expressed as components along these two axes (these are displayed as two blue arrows).\n",
    "\n",
    "The stationary particle initally has no momentum which means, which means that both its normal component and its tangent component are initally zero.\n",
    "\n",
    "After the collision the two particles swap normal components.\n",
    "\n",
    "For the initially moving particle, the normal component becomes zero, leaving only its initial tangent component contributing to its final momentum. \n",
    "\n",
    "For the initially stationary particle, the initial tangent component is zero so the final momentum is equal to the normal component of initially moving particle prior to collision.\n",
    "\n",
    "You may need to read this section a few times and stare at the animation for it to make sense. If after doing so it is still unclear please ask a demonstrator!"
   ]
  },
  {
   "cell_type": "markdown",
   "metadata": {},
   "source": [
    "### Projecting the momentum along the normal and tangent axes"
   ]
  },
  {
   "cell_type": "markdown",
   "metadata": {},
   "source": [
    "Luckily our vector class includes all the necessary methods to calculate the normal and tangent axes and express the momentum in terms of components along them."
   ]
  },
  {
   "cell_type": "markdown",
   "metadata": {},
   "source": [
    "To workout the component of a vector in the direction of a particular axis, we need only calculate the dot product of the vector with that particular axis multipled by the axis vector itself. Shown below for a 3 dimensional vector **a**, axis vectors **i**,**j**, and **k** and vector components $\\textbf a_x$, $\\textbf a_y$ and $\\textbf a_z$.\n",
    "\n",
    "<img src=https://upload.wikimedia.org/wikipedia/commons/thumb/f/fd/3D_Vector.svg/450px-3D_Vector.svg.png></img>\n",
    "\n",
    "E.g. to calculate the component of a particular vector *vec* along the x-axis we would compute:\n",
    "    \n",
    "    vec = Vector(3,4)\n",
    "\n",
    "    xaxis = Vector(1,0)\n",
    "    vec_proj_x = xaxis * vec.dot(xaxis)\n",
    "    print(vec_proj_x)"
   ]
  },
  {
   "cell_type": "code",
   "execution_count": null,
   "metadata": {
    "collapsed": false
   },
   "outputs": [],
   "source": []
  },
  {
   "cell_type": "markdown",
   "metadata": {},
   "source": [
    "Like wise to calculate the component of a vector *vec* along the y-axis we would compute:\n",
    "    \n",
    "    yaxis = Vector(0,1)\n",
    "    vec_proj_y = yaxis * vec.dot(yaxis)\n",
    "    print(vec_proj_y)"
   ]
  },
  {
   "cell_type": "code",
   "execution_count": 49,
   "metadata": {
    "collapsed": true
   },
   "outputs": [],
   "source": []
  },
  {
   "cell_type": "markdown",
   "metadata": {},
   "source": [
    "Of course for x and y we have an easier option for working out the magnitude of along the x and y axes: we can simply use the .x and .y attributes. However this only works for x and y, whereas our general dot product approach works for any axes with might like to consider.\n",
    "\n",
    "    new_axis = Vector(0.6,0.8)\n",
    "    vec_proj_new_axis = new_axis * vec.dot(new_axis)\n",
    "    print(vec_proj_new_axis)"
   ]
  },
  {
   "cell_type": "code",
   "execution_count": null,
   "metadata": {
    "collapsed": true
   },
   "outputs": [],
   "source": []
  },
  {
   "cell_type": "markdown",
   "metadata": {},
   "source": [
    "An important point to bear in mind is that an axis vector **must always have a length of 1**. If we have a vector whose direction we would like to use as an axis, we must first shrink it's length to 1 whilst keeping its direction the same (known as normalisation). To do this we can divide the vector by its own length:\n",
    "\n",
    "    normalised_vec = vec/vec.norm()\n",
    "    print(vec)\n",
    "    print(normalised_vec)"
   ]
  },
  {
   "cell_type": "code",
   "execution_count": null,
   "metadata": {
    "collapsed": true
   },
   "outputs": [],
   "source": []
  },
  {
   "cell_type": "markdown",
   "metadata": {},
   "source": [
    "Having chosen one axis we can work out the component in the direction of the axis orthogonal (at 90 degrees) to our chosen one by subtracting the component along our chosen axis from our vector.\n",
    "\n",
    "    new_xaxis = Vector(0.6,0.8)\n",
    "    vec_proj_newx = new_xaxis * vec.dot(new_xaxis)\n",
    "    vec_proj_newy = vec - vec_proj_newx"
   ]
  },
  {
   "cell_type": "code",
   "execution_count": null,
   "metadata": {
    "collapsed": true
   },
   "outputs": [],
   "source": []
  },
  {
   "cell_type": "markdown",
   "metadata": {},
   "source": [
    "We now have assembled all the pieces we need to update our apply_particle_collision method for 2d collisions.\n",
    "\n",
    "For colliding particles you will want to: \n",
    "\n",
    "* compute the normal axis\n",
    "* compute the projection of the momentum onto the normal and tangent axes\n",
    "* update the normal projected momentum in light of the collision\n",
    "* compute  the new total momentum\n",
    "\n",
    "Have a go updating your simulation class then execute the cell below to test your code."
   ]
  },
  {
   "cell_type": "code",
   "execution_count": null,
   "metadata": {
    "collapsed": true
   },
   "outputs": [],
   "source": [
    "test_2d_collision()"
   ]
  },
  {
   "cell_type": "markdown",
   "metadata": {},
   "source": [
    "Now that we've tested our code on simple cases it's time to run it on a larger number of particles.\n",
    "\n",
    "Use the get_particles function you created earlier to create 200 particles within a 100 length box.\n",
    "\n",
    "Then loop over the particles you've created and set all the momenta to have 0.5 for both their x and y components.\n",
    "\n",
    "Create a simulation in a box of length 100 with dt 0.25 and execute 10,000 steps (it should take a few minutes or so to complete)."
   ]
  },
  {
   "cell_type": "code",
   "execution_count": null,
   "metadata": {
    "collapsed": true
   },
   "outputs": [],
   "source": []
  },
  {
   "cell_type": "markdown",
   "metadata": {},
   "source": [
    "Animate your trajectory using the cell below"
   ]
  },
  {
   "cell_type": "code",
   "execution_count": null,
   "metadata": {
    "collapsed": true
   },
   "outputs": [],
   "source": []
  },
  {
   "cell_type": "markdown",
   "metadata": {},
   "source": [
    "## Fixing a bug"
   ]
  },
  {
   "cell_type": "markdown",
   "metadata": {},
   "source": [
    "Ok looking good but you might see a problem where some particles seem to be stuck together. Think about what would happen if you initialised your particles so that they started off moving slowly but already overlaping with one another? Do you see why you they would seem to stick together? There are two approaches to solving this problem:\n",
    "\n",
    "Make sure when you construct your intitial particles they don't overlap, or when colliding make sure that the particles are actually travelling before swapping their momenta. To do the later you will need to project the difference in the particle momenta onto the normal axis and then check the sign of this projected difference in momenta.\n",
    "\n",
    "Implement one of these solutions and check it works as intended. Finally recreate a simulation of 200 particles in 100 length box with 0.5 for the x/y components of the momenta then simulate 10,000 steps with dt 0.25 "
   ]
  },
  {
   "cell_type": "code",
   "execution_count": null,
   "metadata": {
    "collapsed": true
   },
   "outputs": [],
   "source": []
  },
  {
   "cell_type": "markdown",
   "metadata": {},
   "source": [
    "Animate your trajectory using the cell below"
   ]
  },
  {
   "cell_type": "code",
   "execution_count": null,
   "metadata": {
    "collapsed": true
   },
   "outputs": [],
   "source": []
  },
  {
   "cell_type": "markdown",
   "metadata": {},
   "source": [
    "**Congratulations you've written a particle simulation!**"
   ]
  },
  {
   "cell_type": "markdown",
   "metadata": {
    "collapsed": false
   },
   "source": [
    "The remaining part of the project is unguided so you're on your own from here!"
   ]
  },
  {
   "cell_type": "markdown",
   "metadata": {},
   "source": [
    "## Extras"
   ]
  },
  {
   "cell_type": "markdown",
   "metadata": {},
   "source": [
    "Using your simulation trajectory to produce a plot of total energy versus time for the simulation."
   ]
  },
  {
   "cell_type": "code",
   "execution_count": null,
   "metadata": {
    "collapsed": true
   },
   "outputs": [],
   "source": []
  },
  {
   "cell_type": "markdown",
   "metadata": {},
   "source": [
    "Every recorded state defines a distribution of particle speeds. \n",
    "\n",
    "Below is a skeleton for a function *plot_speeds* that accepts as its argument an integer defining the particular time step we are interested in and will plot the histogram of speeds present at that time step. (You may need to run %matplotlib to get the interactive plot to work) Fill out this function and use it to find out how many time steps our simulation takes till the distribution stops changing."
   ]
  },
  {
   "cell_type": "code",
   "execution_count": 11,
   "metadata": {
    "collapsed": false
   },
   "outputs": [],
   "source": [
    "from ipywidgets import interact\n",
    "import matplotlib.pyplot as plt\n",
    "\n",
    "@interact(t=(0,1000,1))\n",
    "def plot_speeds(t):\n",
    "    pass"
   ]
  },
  {
   "cell_type": "markdown",
   "metadata": {},
   "source": [
    "To get a better distribution create a simulation with a thousand particles and run it for a few hundred time steps (it might be a little slow, so you might need to reduce the time steps to as little as 500 - you can also try importing the Particle class from oo_functions as this is a faster version of the Particle class that you're currently using.)"
   ]
  },
  {
   "cell_type": "code",
   "execution_count": null,
   "metadata": {
    "collapsed": true
   },
   "outputs": [],
   "source": []
  },
  {
   "cell_type": "markdown",
   "metadata": {},
   "source": [
    "The analytical formula for the 2D Maxwell-Boltzmann distribution giving the probabilty of finding a particle with a particular speed $v$ is:\n",
    "    \n",
    "$$p(v)=2\\pi{}v\\frac{m}{2\\pi{}KT} e^{-\\frac{mv^2}{2KT}}$$ \n",
    "\n",
    "Where $m$ is the mass, $K$ is Boltzmann's constant and $T$ is the temperature.\n",
    "\n",
    "The relationship between the temperature and the average energy for a 2d ideal gas is:\n",
    "\n",
    "$$E_{avg} = KT$$"
   ]
  },
  {
   "cell_type": "markdown",
   "metadata": {},
   "source": [
    "Workout the average energy per particle for your simulation above and use this value along with the mass you gave your particles to produce a plot of p(v) against v. (You should replace the p_v variable below with the values of p(v) predicted using the above equation).\n",
    "\n",
    "By comparing the plot you produce with the histogram of speeds extracted from your 1000 particle simulation above do you think our numerical simulation agrees or disagrees with the analytical expression?"
   ]
  },
  {
   "cell_type": "code",
   "execution_count": 13,
   "metadata": {
    "collapsed": false
   },
   "outputs": [],
   "source": [
    "v = np.linspace(0,2,100)\n",
    "p_v = v\n",
    "\n",
    "plt.plot(v,p_v)\n",
    "plt.show()"
   ]
  },
  {
   "cell_type": "markdown",
   "metadata": {},
   "source": [
    "We have assumed that all particles have the same mass and hence that:\n",
    "\n",
    "$$p'_{1} = p_2 $$\n",
    "$$p'_{2} = p_1 $$\n",
    "\n",
    "Where the subscripts indicate the particle. p' is the momentum after the collision and p is the momentum before the collision.\n",
    "\n",
    "But there is no reason to make this assumption. The correct formula for a 1D collision in the case of different particle masses is:\n",
    "    \n",
    "$$p'_{1} = \\frac{p_{1}(m_{1}-m_{2})+2m_{1}p_{2}}{m_{1}+m_{2}}$$\n",
    "$$p'_{2} = \\frac{p_{2}(m_{2}-m_{1})+2m_{2}p_{1}}{m_{1}+m_{2}}$$\n",
    "\n",
    "Update your simulation so that it can handle cases where particles have different masses and test it out on a suitable test case of your own devising."
   ]
  },
  {
   "cell_type": "code",
   "execution_count": null,
   "metadata": {
    "collapsed": true
   },
   "outputs": [],
   "source": []
  },
  {
   "cell_type": "markdown",
   "metadata": {},
   "source": [
    "## Optional (hard!)"
   ]
  },
  {
   "cell_type": "markdown",
   "metadata": {},
   "source": [
    "Can you modify the boundary code so that you can record the pressure being exerted on the box during each time step and hence produce a plot of pressure vs. time step? Does your simulation agree with the ideal gas equations?"
   ]
  },
  {
   "cell_type": "markdown",
   "metadata": {},
   "source": [
    "Can you modify the boundary code so that rather than perfect elastic collisions the boundary adds a random kick to the particles consistent with boundary being at some particular temperature $T_{boundary}$ (you will need to a Temperature attribute to the simulation class)"
   ]
  },
  {
   "cell_type": "markdown",
   "metadata": {},
   "source": [
    "Our simulation is quite slow (you can see where the code is spending its time by including %%prun at the top of a cell and then executing your simulation code). Most of the computational expense is in the particle collisions because there are $\\frac{N(N-1)}{2}$ pairs of particles. One way to reduce this expense is to divide the box up into quadrants, keep track of which quadrant the particles are in and then when executing the particle_collision code only look for collisions between pairs of particles in the same quadrant. Care needs to be taken when thinking about particles on the edges of the quadrants. Can you speed up the code in this way?"
   ]
  },
  {
   "cell_type": "code",
   "execution_count": null,
   "metadata": {
    "collapsed": false
   },
   "outputs": [],
   "source": [
    "%%prun\n",
    "\n",
    "pass"
   ]
  }
 ],
 "metadata": {
  "kernelspec": {
   "display_name": "Python 3",
   "language": "python",
   "name": "python3"
  },
  "language_info": {
   "codemirror_mode": {
    "name": "ipython",
    "version": 3
   },
   "file_extension": ".py",
   "mimetype": "text/x-python",
   "name": "python",
   "nbconvert_exporter": "python",
   "pygments_lexer": "ipython3",
   "version": "3.5.1"
  }
 },
 "nbformat": 4,
 "nbformat_minor": 0
}
