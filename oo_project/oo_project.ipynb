{
 "metadata": {
  "kernelspec": {
   "display_name": "Python 3",
   "language": "python",
   "name": "python3"
  },
  "language_info": {
   "codemirror_mode": {
    "name": "ipython",
    "version": 3
   },
   "file_extension": ".py",
   "mimetype": "text/x-python",
   "name": "python",
   "nbconvert_exporter": "python",
   "pygments_lexer": "ipython3",
   "version": "3.5.1"
  },
  "name": ""
 },
 "nbformat": 3,
 "nbformat_minor": 0,
 "worksheets": [
  {
   "cells": [
    {
     "cell_type": "heading",
     "level": 1,
     "metadata": {},
     "source": [
      "Project: Hard disks molecular dynamics simulations"
     ]
    },
    {
     "cell_type": "markdown",
     "metadata": {},
     "source": [
      "Clyde Fare and Jo\u00e3o Pedro Malhado, Imperial College London (contact: [python@imperial.ac.uk](mailto:python@imperial.ac.uk))\n",
      "\n",
      "Notebook is licensed under a [Creative Commons Attribution 4.0 (CC-by) license](http://creativecommons.org/licenses/by/4.0/)."
     ]
    },
    {
     "cell_type": "markdown",
     "metadata": {},
     "source": [
      "A computational chemist friend of mine once defined simulations in the following terms:\n",
      "\n",
      "<blockquote>Experimental work resembles the actions of a child that receives a big wraped present, and without opening it, by shaking it in his hands and hearing the sound it makes, has to infer what is inside the box and how it works. Simulation on the other hand, is like starting with an empty box, fill it with pieces that we know well, close and wrap the box, and shake it to hear the sound it makes. By comparing the two sounds, we may be able to understand nature a little better.\n",
      "(Philipp Marquetand, sometime around 2009)</blockquote>\n",
      "\n",
      "This project is about building a 2d box, filling it with disks, and hearing what sound it makes."
     ]
    },
    {
     "cell_type": "markdown",
     "metadata": {},
     "source": [
      "## The model\n",
      "\n",
      "We are aiming to create a program to discribe the motion of an ensemble of classical particles in a 2 dimentional space. Unlike the ideal gas model, we will consider that the particles possess volume (area in 2d) and therefore collide with each other. Appart from these collisions we consider no other interaction between particles. Such a system is identical to that programmed by Nick Brooks as [demonstrations for the Chemical Equilibria course](http://www.imperial.ac.uk/chemistry-teaching/chemicalequilibria/).\n",
      "\n",
      "Such simulation is one of the simplest examples of a class of simulation methods called [molecular dynamics](https://en.wikipedia.org/wiki/Molecular_dynamics), describing the time evolution of an ensemble of particles according to classical dynamics. In spite of its simplicity, such hard disks model is able to give insight on important results from thermodynamics, reaction kinetics, the structure of dense fluids, or phase transition.\n",
      "\n",
      "The discription of the dynamical state of the system involves the determination of the position $\\vec{r}_i(t)$ and momentum $\\vec{p}_i(t)$ (or velocity) of each particle of the system at each moment of time. For systems of N particles (where N is usually fairly large) it is in general not possible to write a closed form mathematical expression for how these quantities vary in time. The solution to this problem is to use numerical methods by which, starting from a given initial state, the system is propagated forward in time by a small discrete amount $\\Delta t$ (called a time step), and new the position and momentum are calculated for every particle for time $t+\\Delta t$. By repeating this process over and over again, it is possible to obtain a \"picture\" of the system at small intervals of time and thus monitor its evolution.\n",
      "\n",
      "Our simulation will thus be:\n",
      "\n",
      "* Create an ensemble of particles with positions in a bound region of space with size L&times;L, each with a well defined momenta and mass.\n",
      "* Sequentially updating the position and momenta of these particles in small time steps, keeping a registry of the configurations taken by the system over time."
     ]
    },
    {
     "cell_type": "markdown",
     "metadata": {},
     "source": [
      "##Outline of the program design\n",
      "\n",
      "Our task is thus to write a program to implement the simulation of the system outlined above. The object-oriented approach is actually quite helpful in these early stages of the design in deciding how to structure our program."
     ]
    },
    {
     "cell_type": "markdown",
     "metadata": {},
     "source": [
      "## Some preliminaries\n",
      "\n",
      "Rather than working directly in the notebook we will build our classes inside a file: gas_2d.py using an editor we'll then visualise and test the code inside the notebook. To do that we'll need to execute a few helper utilities. Which will mean as soon as we update the code in our file it will be availbe within the notebook. Please execute these utilities in the cell below:"
     ]
    },
    {
     "cell_type": "code",
     "collapsed": false,
     "input": [
      "%load_ext autoreload\n",
      "%autoreload 2"
     ],
     "language": "python",
     "metadata": {},
     "outputs": []
    },
    {
     "cell_type": "markdown",
     "metadata": {},
     "source": [
      "We've also provided some helper functions to visualise the simulation that you will construct and a slightly expanded Vector class that we will make use of."
     ]
    },
    {
     "cell_type": "code",
     "collapsed": false,
     "input": [
      "import numpy as np\n",
      "from oo_functions import animate_trajectory, display_particle, display_vecs, display_trajectory, Vector\n",
      "from gas_2d import Particle, Simulation"
     ],
     "language": "python",
     "metadata": {},
     "outputs": []
    },
    {
     "cell_type": "markdown",
     "metadata": {},
     "source": [
      "Open gas_2d.py by using the Python editor Spyder (you can find it in your list of programs). Inside gas_2d.py you will find three class definitions, Vector, Particle and Simulation. \n",
      "\n",
      "We will be making heavy use of the Vector class, which is already filled out and is much the same as the Vector class we developed in the last workshop with a few additional methods that means we can add, subtract, multiply and divide our vectors using the usual +-/\\* operators. Particle and Simulation are just the outlines of the class. You will need to replace *pass* with code as you as you progress through the project."
     ]
    },
    {
     "cell_type": "code",
     "collapsed": true,
     "input": [],
     "language": "python",
     "metadata": {},
     "outputs": []
    },
    {
     "cell_type": "heading",
     "level": 2,
     "metadata": {},
     "source": [
      "Building a Particle Class"
     ]
    },
    {
     "cell_type": "markdown",
     "metadata": {},
     "source": [
      "The first class we need to fill out is the Particle class which will unsurprisingly represent... *drum roll* ...particles. Once we can create particle objects we can start building our Simulation class which will represent the total simulation and will include multiple Particle objects.\n",
      "\n",
      "For our purposes the properties that define a single particle will be position momentum, mass and radius. In the skeleton of the class below replace *pass* with code so that the particle class has position/momentum/radius attributes. We will want a method *velocity* which will return the velocity of the particle (recall that our expanded Vector class allows us to divide vectors by scalars). We will also want a method *copy* which will return an identical copy of the Particle shown below is a skeleton of the class we want to construct. Edit gas.py by filling out the particle class. (Once saved it should automatically be available to the notebook.\n",
      "\n",
      "    class Particle():\n",
      "        def __init__(self, position, momentum, radius, mass):\n",
      "            pass\n",
      "\n",
      "        def velocity(self):\n",
      "            pass\n",
      "            \n",
      "        def copy(self):\n",
      "            pass"
     ]
    },
    {
     "cell_type": "markdown",
     "metadata": {},
     "source": [
      "We've created some helper functions for this workshop that will help with visualisation. One function is called display_particle. In the cell below use your particle class to create a particle object and then use the display_particle function on it to display it. \n",
      "\n",
      "In order to initialise your particle you'll need to create two vectors one for position and one for momentum and provide your particle with a radius and a mass."
     ]
    },
    {
     "cell_type": "code",
     "collapsed": false,
     "input": [],
     "language": "python",
     "metadata": {},
     "outputs": []
    },
    {
     "cell_type": "markdown",
     "metadata": {},
     "source": [
      "A plot showing your particle should have popped up. Bask in the glory of the particle you have created."
     ]
    },
    {
     "cell_type": "heading",
     "level": 2,
     "metadata": {},
     "source": [
      "Making our particle move"
     ]
    },
    {
     "cell_type": "markdown",
     "metadata": {},
     "source": [
      "Ok now we can create individual particles but they aren't doing too much, let's try generate a trajectory. As our particle is a free particle experiencing no forces the momentum will not change with time. The position however will change. In a small amount of time $\\Delta t$ the position will change via:\n",
      "\n",
      "$$\\vec{r}(t+\\Delta t)=\\vec{r}(t)+\\vec{v}(t)\\times \\Delta t$$\n",
      "\n",
      "where $\\vec{r}(t)$ is the position at time $t$, $\\vec{v}(t)$ is velocity and $\\Delta t$ is the time step.\n",
      "\n",
      "The trajectory of the particle, undersood in this context as a sequence of particle positions recorded in consecutive time steps, is obtained by running our simulation for a certain number of time steps, during each step we will use the velocity to update the position and then record the particle using the list.\n",
      "\n",
      "Fill out the cell so that during each iteration the particle's position is updated, you'll also want to append a copy of the particle object to the trajectory list so that we have a record of the particle at every time step."
     ]
    },
    {
     "cell_type": "code",
     "collapsed": true,
     "input": [
      "no_steps = 1000\n",
      "dt = 0.01\n",
      "\n",
      "trajectory = []\n",
      "for step in range(no_steps):\n",
      "    pass"
     ],
     "language": "python",
     "metadata": {},
     "outputs": []
    },
    {
     "cell_type": "markdown",
     "metadata": {},
     "source": [
      "Use the display_trajectory function on the positions list to view the motion of your particle"
     ]
    },
    {
     "cell_type": "code",
     "collapsed": false,
     "input": [
      "display_trajectory(trajectory)"
     ],
     "language": "python",
     "metadata": {},
     "outputs": []
    },
    {
     "cell_type": "heading",
     "level": 2,
     "metadata": {},
     "source": [
      "Building a Simulation class"
     ]
    },
    {
     "cell_type": "markdown",
     "metadata": {},
     "source": [
      "Great! We're going to take a step sideways now and introduce our main simulation class. The code you wrote above calculated the position of a single particle for multiple time steps.\n",
      "\n",
      "This time we're going to have many particles but we're only going to calculate their position for a single time step. Below is a skeleton for our simulation class, it will be initialised with a list of particles, a number box_length and another number dt. It includes a method *step* which is where the action takes place. The step method should loop over every particle and update the particle's position using it's momementum and the time step dt.\n",
      "\n",
      "    class Simulation():\n",
      "        def __init__(self, particles, box_length, dt):\n",
      "            pass\n",
      "\n",
      "        def step(self):\n",
      "            pass"
     ]
    },
    {
     "cell_type": "markdown",
     "metadata": {},
     "source": [
      "Test your simulation class using the code below (we're printing out the y coordinate of the first particle at the start of the simulation and after we have updated the positions). Do you understand what's being printed out?"
     ]
    },
    {
     "cell_type": "code",
     "collapsed": false,
     "input": [
      "particles = [Particle(Vector(0.5,0),Vector(0,1),1,1),\n",
      "             Particle(Vector(0.5,1),Vector(0,-1),1,1),\n",
      "             Particle(Vector(0,0), Vector(0.5,0.5),1,1)]\n",
      "\n",
      "s=Simulation(particles, 100,1)\n",
      "\n",
      "print(s.particles[0].position.y)\n",
      "s.step()\n",
      "print(s.particles[0].position.y)\n",
      "s.step()\n",
      "print(s.particles[0].position.y)"
     ],
     "language": "python",
     "metadata": {},
     "outputs": []
    },
    {
     "cell_type": "heading",
     "level": 2,
     "metadata": {},
     "source": [
      "Recording the state of the simulation"
     ]
    },
    {
     "cell_type": "markdown",
     "metadata": {},
     "source": [
      "We also want to record the state of the particles so we can have a look at the trajectories our particles have taken during the simulation and process our data.\n",
      "\n",
      "The cell below shows another simulation class skeleton, which has added a record_state method. This method should loop over each particle and append a copy of the particle to the state list. Once done it should append the state list to the trajectory attribute. You'll want to call the record_state method at the end of step method so that every time we update the particles we record them. Update your Simulation class to include the record_state method and call it from your step method.\n",
      "\n",
      "    class Simulation():\n",
      "        def __init__(self, particles, box_length, dt):\n",
      "            self.trajectory = []\n",
      "\n",
      "        def step(self):\n",
      "            pass\n",
      "\n",
      "        def record_state(self):\n",
      "            state = []"
     ]
    },
    {
     "cell_type": "markdown",
     "metadata": {},
     "source": [
      "Test your code using the cell below:"
     ]
    },
    {
     "cell_type": "code",
     "collapsed": false,
     "input": [
      "particles = [Particle(Vector(10,0),Vector(0,0.75),1,1),\n",
      "             Particle(Vector(50,10),Vector(0,0.5),1,1),\n",
      "             Particle(Vector(0,0), Vector(0.5,0.75),1,1)]\n",
      "\n",
      "no_steps = 300\n",
      "\n",
      "s=Simulation(particles, 100, 0.5)\n",
      "for i in range(no_steps):\n",
      "    s.step()\n",
      "\n",
      "animate_trajectory(s)"
     ],
     "language": "python",
     "metadata": {},
     "outputs": []
    },
    {
     "cell_type": "heading",
     "level": 2,
     "metadata": {},
     "source": [
      "Generating initial conditions"
     ]
    },
    {
     "cell_type": "markdown",
     "metadata": {},
     "source": [
      "The outcome of each simulation will depend strongly on the initial state of the system, note that each Simulation object is created with initial conditions specified by a list of particle objects.\n",
      "\n",
      "If we were to create a set of initial conditions with 100 particles, with radius and mass equal to 1, all equally spaced just above the bottom of the box, and with momentum with components along x and y equal to 0.5, we could write\n",
      "\n",
      "    box_length=500\n",
      "    N=100\n",
      "    init_ordered=[]\n",
      "    for p in range(1,N+1):\n",
      "        pos=Vector(p*(N-1)/box_length,2)\n",
      "        mom=Vector(0.5,0.5)\n",
      "        init_ordered.append(Particle(pos,mom,1,1))"
     ]
    },
    {
     "cell_type": "code",
     "collapsed": false,
     "input": [],
     "language": "python",
     "metadata": {},
     "outputs": []
    },
    {
     "cell_type": "markdown",
     "metadata": {},
     "source": [
      "Create a simulation object with the init_ordered list, make a few simulation steps, and look at your results with animate_trajectory()."
     ]
    },
    {
     "cell_type": "code",
     "collapsed": false,
     "input": [],
     "language": "python",
     "metadata": {},
     "outputs": []
    },
    {
     "cell_type": "markdown",
     "metadata": {},
     "source": [
      "A useful set of initial conditions will be one where particles are randomly distributed in the box and random momenta in an interval \\[-p<sub>max</sub>,p<sub>max</sub>\\]. The [random()](http://docs.scipy.org/doc/numpy/reference/generated/numpy.random.random.html) function from numpy, which returns a random number between 0 and 1, is useful in this context.\n",
      "\n",
      "    from numpy.random import random\n",
      "    \n",
      "    box_length=500\n",
      "    N=100\n",
      "    radius=1\n",
      "    p_max=2\n",
      "    init_random=[]\n",
      "    for p in range(1,N+1):\n",
      "        pos_x=random()*(box_length-2*radius)+radius   #avoid initial position too close to the walls\n",
      "        pos_y=random()*(box_length-2*radius)+radius\n",
      "        pos=Vector(pos_x,pos_y)\n",
      "        mom_x=(random()-0.5)*2*p_max                  #allow for positive and negative momenta\n",
      "        mom_y=(random()-0.5)*2*p_max\n",
      "        mom=Vector(mom_x,mom_y)\n",
      "        init_random.append(Particle(pos,mom,radius,1))"
     ]
    },
    {
     "cell_type": "code",
     "collapsed": false,
     "input": [],
     "language": "python",
     "metadata": {},
     "outputs": []
    },
    {
     "cell_type": "markdown",
     "metadata": {},
     "source": [
      "Run a few time steps of a simulation initialized with init_random, and see the result of your simulation."
     ]
    },
    {
     "cell_type": "code",
     "collapsed": false,
     "input": [],
     "language": "python",
     "metadata": {},
     "outputs": []
    },
    {
     "cell_type": "markdown",
     "metadata": {},
     "source": [
      "You may find yourself using the random set of initial conditions often, so you may consider to define a function to generate these."
     ]
    },
    {
     "cell_type": "heading",
     "level": 1,
     "metadata": {},
     "source": [
      "Collisions"
     ]
    },
    {
     "cell_type": "markdown",
     "metadata": {},
     "source": [
      "We're making great progress but our simulation faces two problems:\n",
      "\n",
      "   * Our particles pass through the boundaries of our box\n",
      "   * Our particles pass through each other.\n",
      "   \n",
      "Let's focus on the boundaries problem to begin with. First execute the simple test we have below involving particles going through the boundary. We'll use this to test our code is behaving the way we want."
     ]
    },
    {
     "cell_type": "heading",
     "level": 2,
     "metadata": {},
     "source": [
      "Boundary Collision"
     ]
    },
    {
     "cell_type": "code",
     "collapsed": false,
     "input": [
      "def test_box():\n",
      "    box_length = 100\n",
      "    no_steps = 300\n",
      "    \n",
      "    p1 = Particle(position=Vector(10,50), momentum=Vector(-1,0),radius=1,mass=1)\n",
      "    p2 = Particle(position=Vector(50,90), momentum=Vector(0,1) ,radius=1,mass=1)\n",
      "    p3 = Particle(position=Vector(50,10), momentum=Vector(0,-1),radius=1,mass=1)\n",
      "    p4 = Particle(position=Vector(90,50), momentum=Vector(1,0) ,radius=1,mass=1)\n",
      "\n",
      "    box_particles = [p1,p2,p3,p4]\n",
      "\n",
      "    s = Simulation(box_particles, box_length=100, dt=0.1)\n",
      "    for i in range(300):\n",
      "        s.step()\n",
      "    animate_trajectory(s,loop=True)\n",
      "\n",
      "test_box()"
     ],
     "language": "python",
     "metadata": {},
     "outputs": []
    },
    {
     "cell_type": "markdown",
     "metadata": {},
     "source": [
      "Ok, let's update our simulation class so that instead of passing through our box they bounce off the edges. Our simulation class will now make use of the previously unused attribute *box_length* and it will need an additional method *apply_box_collisions*.\n",
      "\n",
      "At the moment our particles' momenta remain unaltered no matter what happens. But we would like the momentum of a particle along the x-axis to reverse if it goes past the sides of our box, likewise we would like the momentum of a particle along the y-axis to reverse if it goes past the top or the bottom of our box.\n",
      "\n",
      "Try implementing an apply_box_collisions method as outlined in the skeleton below. This method will recieve as it's argument a particle and then it will check whether that particle is past the boundaries of the box and if it is change it's momentum accordingly.\n",
      "\n",
      "We'll then add in a call to apply_box_collisions in our step method that loops over all the particles.\n",
      "\n",
      "    class Simulation():\n",
      "        def __init__(self, particles, box_length, dt):        \n",
      "            self.trajectory = []\n",
      "\n",
      "            pass\n",
      "\n",
      "        def apply_box_collisions(self, particle):\n",
      "            pass\n",
      "\n",
      "        def step(self):\n",
      "            pass\n",
      "\n",
      "        def record_state(self):\n",
      "            positions = []\n",
      "\n",
      "            pass"
     ]
    },
    {
     "cell_type": "markdown",
     "metadata": {},
     "source": [
      "Test your simulation class by executing the cell below"
     ]
    },
    {
     "cell_type": "code",
     "collapsed": false,
     "input": [
      "test_box()"
     ],
     "language": "python",
     "metadata": {},
     "outputs": []
    },
    {
     "cell_type": "heading",
     "level": 2,
     "metadata": {},
     "source": [
      "Particle Collisions"
     ]
    },
    {
     "cell_type": "markdown",
     "metadata": {},
     "source": [
      "Ok the final problem and the most challenging is implementing interparticle collisions. First the following test cases:"
     ]
    },
    {
     "cell_type": "code",
     "collapsed": false,
     "input": [
      "def test_1d_collision():\n",
      "    box_length = 100\n",
      "    no_steps = 300\n",
      "\n",
      "    p1 = Particle(position = Vector(10,10), momentum=Vector(1,0),radius=1,mass=1)\n",
      "    p2 = Particle(position = Vector(20,10), momentum=Vector(0,0) ,radius=1,mass=1)\n",
      "    \n",
      "    test_case = [p1,p2]\n",
      "    s=Simulation(particles=test_case,box_length=100,dt=0.05)\n",
      "\n",
      "    for i in range(500):\n",
      "        s.step()\n",
      "    animate_trajectory(s,loop=True)\n",
      "\n",
      "test_1d_collision()"
     ],
     "language": "python",
     "metadata": {},
     "outputs": []
    },
    {
     "cell_type": "code",
     "collapsed": true,
     "input": [
      "def test_2d_collision():\n",
      "    box_length = 100\n",
      "    no_steps = 300\n",
      "\n",
      "    p1 = Particle(position = Vector(10,10), momentum=Vector(1,0.5),radius=1,mass=1)\n",
      "    p2 = Particle(position = Vector(20,15), momentum=Vector(0,0) ,radius=1,mass=1)\n",
      "    \n",
      "    test_case = [p1,p2]\n",
      "    s=Simulation(particles=test_case,box_length=100,dt=0.05)\n",
      "\n",
      "    for i in range(500):\n",
      "        s.step()\n",
      "    animate_trajectory(s,loop=True)\n",
      "\n",
      "test_2d_collision()"
     ],
     "language": "python",
     "metadata": {},
     "outputs": []
    },
    {
     "cell_type": "heading",
     "level": 3,
     "metadata": {},
     "source": [
      "Enhancing the Particle class"
     ]
    },
    {
     "cell_type": "markdown",
     "metadata": {},
     "source": [
      "One thing that will make our life easier is if we add another method to our particle class. In order to check whether two particles are going to collide we need to check whether they overlap. So we'll want to add an overlap method to our Particle class, this method will recieve as it's second argument another particle (as always the first argument a method recieves is always self). Our method will then return True if the distance between this other particle and itself is less than the sum of the two particle's radii otherwise it will return False. Extend the class in gas.py in accordance with the class skeleton below:\n",
      "\n",
      "    class Particle():\n",
      "        def __init__(self, position, momentum, radius, mass):\n",
      "            pass\n",
      "\n",
      "        def velocity(self):\n",
      "            pass\n",
      "        \n",
      "        def copy(self):\n",
      "            pass\n",
      "            \n",
      "        def overlap(self, other_particle):\n",
      "            pass"
     ]
    },
    {
     "cell_type": "markdown",
     "metadata": {},
     "source": [
      "In the cell below create some particle objects and see if your overlap method behaves the way you expect it to."
     ]
    },
    {
     "cell_type": "code",
     "collapsed": true,
     "input": [],
     "language": "python",
     "metadata": {},
     "outputs": []
    },
    {
     "cell_type": "heading",
     "level": 3,
     "metadata": {},
     "source": [
      "1D collisions"
     ]
    },
    {
     "cell_type": "markdown",
     "metadata": {
      "collapsed": true
     },
     "source": [
      "Ok so now we can think about the collisions themselves. We're going to focus on perfectly elastic collisions and to start with we're going to make two additional simplifications: \n",
      "\n",
      "* We're going to pretend for now that we're dealing with [1 dimensional particles](https://en.wikipedia.org/wiki/Elastic_collision#One-dimensional_Newtonian) that only move along the x-axis.\n",
      "* We're going to pretend that the masses of both particles are equal. \n",
      "\n",
      "Under these conditions the result of an elastic collision is that the momenta of the two particles simply swap over after the collision as illustrated from the following animation (by Simon Steinmann, on [wikimedia commons](https://commons.wikimedia.org/wiki/File:Elastischer_sto%C3%9F.gif)):\n",
      "\n",
      "<img src=https://upload.wikimedia.org/wikipedia/commons/c/c6/Elastischer_sto%C3%9F.gif />\n",
      "\n",
      "I.e.: \n",
      "$$\\vec{p}_1: m\\vec{v}_1 \\rightarrow m\\vec{v}_2$$ \n",
      "$$\\vec{p}_2: m\\vec{v}_2 \\rightarrow m\\vec{v}_1$$ "
     ]
    },
    {
     "cell_type": "markdown",
     "metadata": {},
     "source": [
      "Our particles are 2d as they have both x and y components for position and momentum, but if we make sure all the particles we're dealing with have the same y position and have 0 y momenta then they are effectively behaving like 1d particles.\n",
      "\n",
      "Add a method *apply_particle_collision* to your simulation class that recieves as its arguments two particles and if they overlap alters their momentum along the x-axis in line with an elastic collision.\n",
      "\n",
      "\n",
      "    class Simulation():\n",
      "        def __init__(self, particles, dt, box_length):\n",
      "            self.trajectory = []\n",
      "\n",
      "            pass\n",
      "\n",
      "        def apply_particle_collision(self, particle1, particle2):\n",
      "            pass\n",
      "\n",
      "        def apply_box_collisions(self, particle):\n",
      "            pass\n",
      "\n",
      "        def step(self):\n",
      "            pass\n",
      "\n",
      "        def record_state(self):\n",
      "            positions = []\n",
      "\n",
      "            pass"
     ]
    },
    {
     "cell_type": "markdown",
     "metadata": {},
     "source": [
      "In the cell below create a few particle objects and check that your method behaves the way you expect it to."
     ]
    },
    {
     "cell_type": "code",
     "collapsed": false,
     "input": [],
     "language": "python",
     "metadata": {},
     "outputs": []
    },
    {
     "cell_type": "markdown",
     "metadata": {},
     "source": [
      "Now we want to add in applying collisions to our step method. But to do that we need to loop over all pairs of particles. Note that we want to avoid colliding particle i with particle j and then also seperately colliding particle j with particle i - if we collide the same particles twice we will end up swapping their momenta twice hence undoing the collision.\n",
      "\n",
      "There are several different ways of looping over pairs, but perhaps the easiest is to use the function **combinations** from the itertools library. See example below:"
     ]
    },
    {
     "cell_type": "code",
     "collapsed": false,
     "input": [
      "from itertools import combinations\n",
      "\n",
      "example_list = [1,2,3,4,5]\n",
      "for p1,p2 in combinations(example_list,2):\n",
      "    print(p1,p2)"
     ],
     "language": "python",
     "metadata": {},
     "outputs": []
    },
    {
     "cell_type": "markdown",
     "metadata": {},
     "source": [
      "Amend your step method so that it calls apply_particle_collision on all pairs of particles (you will need to import combinations at the top of your gas_2d.py file) and test your solution below:"
     ]
    },
    {
     "cell_type": "code",
     "collapsed": false,
     "input": [
      "test_1d_collision()"
     ],
     "language": "python",
     "metadata": {},
     "outputs": []
    },
    {
     "cell_type": "markdown",
     "metadata": {},
     "source": [
      "Since we've started adding more to our step method now is a good time to tidy it up a bit by creating an *update_position* method, moving the code that updates the positions from *step* to *update_postion* and then calling that *update_position* from inside the step method.\n",
      "\n",
      "    class Simulation():\n",
      "        def __init__(self, particles, dt, box_length):\n",
      "            self.trajectory = []\n",
      "\n",
      "            pass\n",
      "\n",
      "        def apply_particle_collision(self, particle1, particle2):\n",
      "            pass\n",
      "\n",
      "        def apply_box_collisions(self, particle):\n",
      "            pass\n",
      "\n",
      "        def update_position(self, particle):\n",
      "            pass\n",
      "            \n",
      "        def step(self):\n",
      "            pass\n",
      "\n",
      "        def record_state(self):\n",
      "            positions = []\n",
      "\n",
      "            pass\n",
      "            \n",
      "This process of reorganising code to make it clearer and easier to modify is known as **refactoring** and is an extremely important part of programming that is often overlooked by beginner programmers. It was also a part of the final optional task of the previous workshop where we changed the Molecule class from being composed of lists of different symbols, vectors and properties to being composed of a list of Atom objects.\n",
      "\n",
      "Make sure your refactor didn't break your code by re-executing the test_case below:"
     ]
    },
    {
     "cell_type": "code",
     "collapsed": true,
     "input": [
      "test_1d_collision()"
     ],
     "language": "python",
     "metadata": {},
     "outputs": []
    },
    {
     "cell_type": "heading",
     "level": 3,
     "metadata": {},
     "source": [
      "2D Collisions"
     ]
    },
    {
     "cell_type": "markdown",
     "metadata": {},
     "source": [
      "Let's move on to 2d collisions! Currently we represent our momentumn in terms of two directions x and y. What we're going to do for our 2d case is to work out a different representation of the momentum in terms of two different directions. We will choose these directions in such a way that the collision will leave the second component completely unchanged, this essentially turns the 2d problem into the 1d problem we already know how to solve.\n",
      "\n",
      "What are these two directions? The first is the direction of the displacement vector between the two particles at the moment they are colliding. We'll call this the *normal axis*. The other will be at 90 degrees to the normal and we'll call the *tangent axis*.\n",
      "\n",
      "What we expect in our simplified case then is that following collision the normal components of the momentum of the particles will swap over whilst the tangent components will remain unchanged.\n",
      "\n",
      "To make this a bit clearer let's look at the following animation (by Simon Steinmann, from [wikimedia commons](https://commons.wikimedia.org/wiki/File:Elastischer_sto%C3%9F_2D.gif)):\n",
      "\n",
      "<img src=https://upload.wikimedia.org/wikipedia/commons/2/2c/Elastischer_sto%C3%9F_2D.gif />\n",
      "\n",
      "What you are seeing is one particle in motion and another at rest. At the point where the two particles collide, the animation displays the normal and tangent axes as perpendicular black lines. \n",
      "\n",
      "The momentum of the moving particle (displayed as a red arrow) is expressed as components along these two axes (these are displayed as two blue arrows).\n",
      "\n",
      "The stationary particle initally has no momentum which means, which means that both its normal component and its tangent component are initally zero.\n",
      "\n",
      "After the collision the two particles swap normal components.\n",
      "\n",
      "For the initially moving particle, the normal component becomes zero, leaving only its initial tangent component contributing to its final momentum. \n",
      "\n",
      "For the initially stationary particle, the initial tangent component is zero so the final momentum is equal to the normal component of initially moving particle prior to collision.\n",
      "\n",
      "You may need to read this section a few times and stare at the animation for it to make sense. If after doing so it is still unclear please ask a demonstrator!"
     ]
    },
    {
     "cell_type": "heading",
     "level": 3,
     "metadata": {},
     "source": [
      "Projecting the momentum along the normal and tangent axes"
     ]
    },
    {
     "cell_type": "markdown",
     "metadata": {},
     "source": [
      "Luckily our vector class includes all the necessary methods to calculate the normal and tangent axes and express the momentum in terms of components along them."
     ]
    },
    {
     "cell_type": "markdown",
     "metadata": {},
     "source": [
      "To workout the component of a vector in the direction of a particular axis, we need only calculate the dot product of the vector with that particular axis multipled by the axis vector itself. Shown below is a figure (by user Acdx, from [wikimedia commons](https://upload.wikimedia.org/wikipedia/commons/f/fd/3D_Vector.svg)) for a 3 dimensional vector **a**, axis vectors **i**,**j**, and **k** and vector components $\\textbf a_x$, $\\textbf a_y$ and $\\textbf a_z$.\n",
      "\n",
      "<img src=\"https://upload.wikimedia.org/wikipedia/commons/f/fd/3D_Vector.svg\" />\n",
      "\n",
      "E.g. to calculate the component of a particular vector *vec* along the x-axis we would compute:\n",
      "    \n",
      "    vec = Vector(3,4)\n",
      "\n",
      "    xaxis = Vector(1,0)\n",
      "    vec_proj_x = xaxis * vec.dot(xaxis)\n",
      "    vec_proj_x"
     ]
    },
    {
     "cell_type": "code",
     "collapsed": false,
     "input": [],
     "language": "python",
     "metadata": {},
     "outputs": []
    },
    {
     "cell_type": "markdown",
     "metadata": {},
     "source": [
      "Like wise to calculate the component of a vector *vec* along the y-axis we would compute:\n",
      "    \n",
      "    yaxis = Vector(0,1)\n",
      "    vec_proj_y = yaxis * vec.dot(yaxis)\n",
      "    vec_proj_y"
     ]
    },
    {
     "cell_type": "code",
     "collapsed": true,
     "input": [],
     "language": "python",
     "metadata": {},
     "outputs": []
    },
    {
     "cell_type": "markdown",
     "metadata": {},
     "source": [
      "Of course for x and y we have an easier option for working out the magnitude of along the x and y axes: we can simply use the .x and .y attributes. However this only works for x and y, whereas our general dot product approach works for any axes with might like to consider.\n",
      "\n",
      "    new_axis = Vector(0.6,0.8)\n",
      "    vec_proj_new_axis = new_axis * vec.dot(new_axis)\n",
      "    vec_proj_new_axis"
     ]
    },
    {
     "cell_type": "code",
     "collapsed": true,
     "input": [],
     "language": "python",
     "metadata": {},
     "outputs": []
    },
    {
     "cell_type": "markdown",
     "metadata": {},
     "source": [
      "An important point to bear in mind is that an axis vector **must always have a length of 1**. If we have a vector whose direction we would like to use as an axis, we must first shrink it's length to 1 whilst keeping its direction the same (known as normalisation). To do this we can divide the vector by its own length:\n",
      "\n",
      "    normalised_vec = vec/vec.norm()\n",
      "    print(vec)\n",
      "    print(normalised_vec)"
     ]
    },
    {
     "cell_type": "code",
     "collapsed": true,
     "input": [],
     "language": "python",
     "metadata": {},
     "outputs": []
    },
    {
     "cell_type": "markdown",
     "metadata": {},
     "source": [
      "Having chosen one axis we can work out the component in the direction of the axis orthogonal (at 90 degrees) to our chosen one by subtracting the component along our chosen axis from our vector.\n",
      "\n",
      "    new_xaxis = Vector(0.6,0.8)\n",
      "    vec_proj_newx = new_xaxis * vec.dot(new_xaxis)\n",
      "    vec_proj_newy = vec - vec_proj_newx"
     ]
    },
    {
     "cell_type": "code",
     "collapsed": true,
     "input": [],
     "language": "python",
     "metadata": {},
     "outputs": []
    },
    {
     "cell_type": "markdown",
     "metadata": {},
     "source": [
      "We now have assembled all the pieces we need to update our apply_particle_collision method for 2d collisions.\n",
      "\n",
      "For colliding particles you will want to: \n",
      "\n",
      "* compute the normal axis\n",
      "* compute the projection of the momentum onto the normal and tangent axes\n",
      "* update the normal projected momentum in light of the collision\n",
      "* compute  the new total momentum\n",
      "\n",
      "Have a go updating your simulation class then execute the cell below to test your code."
     ]
    },
    {
     "cell_type": "code",
     "collapsed": true,
     "input": [
      "test_2d_collision()"
     ],
     "language": "python",
     "metadata": {},
     "outputs": []
    },
    {
     "cell_type": "markdown",
     "metadata": {},
     "source": [
      "We've tested our code in the most obvious way but there is a final test case we need to take a look at.\n",
      "\n",
      "Execute the cell below and animate the simulation. What do you think is going on?"
     ]
    },
    {
     "cell_type": "code",
     "collapsed": true,
     "input": [],
     "language": "python",
     "metadata": {},
     "outputs": [],
     "prompt_number": null
    },
    {
     "cell_type": "heading",
     "level": 2,
     "metadata": {},
     "source": [
      "Fixing a bug"
     ]
    },
    {
     "cell_type": "markdown",
     "metadata": {},
     "source": [
      "Ok looking good but you might see a problem where some particles seem to be stuck together. Think about what would happen if you initialised your particles so that they started off moving slowly but already overlaping with one another? Do you see why they would seem to stick together? \n",
      "\n",
      "To solve this problem we need to check whether or not two particles are actually moving towards one another before deciding to collide them, as you have determined the momentum of both particles along the normal axis you should be able to add a check to make sure they are moving together prior to switching their momenta. The same problem can manifest along the boundaries (where particles can also get stuck) so you'll want to apply the same solution to your box_collisions method.\n",
      "\n",
      "Test your solution on the test case below:"
     ]
    },
    {
     "cell_type": "code",
     "collapsed": true,
     "input": [],
     "language": "python",
     "metadata": {},
     "outputs": [],
     "prompt_number": null
    },
    {
     "cell_type": "markdown",
     "metadata": {},
     "source": [
      "Finally recreate a simulation of 200 particles in 100 length box, with 0.5 for the x/y components of the momenta then simulate 10,000 steps with dt=0.25 "
     ]
    },
    {
     "cell_type": "code",
     "collapsed": true,
     "input": [],
     "language": "python",
     "metadata": {},
     "outputs": []
    },
    {
     "cell_type": "markdown",
     "metadata": {},
     "source": [
      "Animate your trajectory using the cell below"
     ]
    },
    {
     "cell_type": "code",
     "collapsed": true,
     "input": [],
     "language": "python",
     "metadata": {},
     "outputs": []
    },
    {
     "cell_type": "markdown",
     "metadata": {},
     "source": [
      "**Congratulations you've written a particle simulation!**"
     ]
    },
    {
     "cell_type": "markdown",
     "metadata": {
      "collapsed": false
     },
     "source": [
      "The remaining part of the project is unguided so you're on your own from here!"
     ]
    },
    {
     "cell_type": "heading",
     "level": 2,
     "metadata": {},
     "source": [
      "Allowing for particles with different masses"
     ]
    },
    {
     "cell_type": "markdown",
     "metadata": {},
     "source": [
      "We have assumed so far that all particles have the same mass and hence that:\n",
      "\n",
      "$$\\vec{p'}_1 = \\vec{p}_2 $$\n",
      "$$\\vec{p'}_2 = \\vec{p}_1 $$\n",
      "\n",
      "where the subscripts indicate the particle. $\\vec{p'}$ is the momentum after the collision and $\\vec{p}$ is the momentum before the collision.\n",
      "\n",
      "But there is no reason to make this assumption. The correct formula for a 1D collision in the case of different particle masses is:\n",
      "    \n",
      "$$\\vec{p'}_1 = \\frac{(m_1-m_2)\\vec{p}_1+2m_1\\vec{p}_2}{m_1+m_2}$$\n",
      "$$\\vec{p'}_2 = \\frac{(m_2-m_1)\\vec{p}_2+2m_2\\vec{p}_1}{m_1+m_2}$$\n",
      "\n",
      "Update your Simulation so that it can handle cases where particles have different masses and test it out on a suitable test case of your own devising."
     ]
    },
    {
     "cell_type": "code",
     "collapsed": false,
     "input": [],
     "language": "python",
     "metadata": {},
     "outputs": []
    },
    {
     "cell_type": "heading",
     "level": 2,
     "metadata": {},
     "source": [
      "Looking at Physical Quantities"
     ]
    },
    {
     "cell_type": "markdown",
     "metadata": {},
     "source": [
      "### Energy as a function of time\n",
      "Using your simulation trajectory to produce a plot of total (kinetic) energy versus time for the simulation."
     ]
    },
    {
     "cell_type": "code",
     "collapsed": true,
     "input": [],
     "language": "python",
     "metadata": {},
     "outputs": []
    },
    {
     "cell_type": "markdown",
     "metadata": {},
     "source": [
      "###Distribution of speeds\n",
      "Every recorded state defines a distribution of particle speeds. \n",
      "\n",
      "Plot the evolution of the standard deviation of the particle speeds as a function of time, and see if you have reached equilibrium or if you need to run your simulation for longer."
     ]
    },
    {
     "cell_type": "code",
     "collapsed": false,
     "input": [],
     "language": "python",
     "metadata": {},
     "outputs": []
    },
    {
     "cell_type": "markdown",
     "metadata": {},
     "source": [
      "Below is a skeleton for a function *plot_speeds* that accepts as its argument an integer defining the particular time step we are interested in and will plot the histogram of speeds present at that time step. (You may need to run %matplotlib to get the interactive plot to work). Fill out this function and use it to find out how many time steps our simulation takes till the distribution stops changing."
     ]
    },
    {
     "cell_type": "code",
     "collapsed": false,
     "input": [
      "from ipywidgets import interact\n",
      "from matplotlib.pyplot import *\n",
      "\n",
      "@interact(t=(0,1000,1))\n",
      "def plot_speeds(t):\n",
      "    pass"
     ],
     "language": "python",
     "metadata": {},
     "outputs": []
    },
    {
     "cell_type": "markdown",
     "metadata": {},
     "source": [
      "To get a better distribution create a simulation with a thousand particles and run it for a few hundred time steps (it might be a little slow, so you might need to reduce the time steps to as little as 500 - you can also try importing the Particle class from oo_functions as this is a faster version of the Particle class that you're currently using.)"
     ]
    },
    {
     "cell_type": "code",
     "collapsed": true,
     "input": [],
     "language": "python",
     "metadata": {},
     "outputs": []
    },
    {
     "cell_type": "markdown",
     "metadata": {},
     "source": [
      "The analytical formula for the 2D Maxwell-Boltzmann distribution giving the probabilty of finding a particle with a particular speed $v$ is:\n",
      "    \n",
      "$$p(v)=\\frac{m v}{k_B T} \\exp\\left(-\\frac{mv^2}{2k_BT}\\right)$$ \n",
      "\n",
      "Where $m$ is the mass, $k_B$ is Boltzmann's constant and $T$ is the temperature.\n",
      "\n",
      "The relationship between the temperature and the average energy for a 2d ideal gas is:\n",
      "\n",
      "$$\\langle E \\rangle= k_BT$$"
     ]
    },
    {
     "cell_type": "markdown",
     "metadata": {},
     "source": [
      "Workout the average energy per particle for your simulation above and use this value along with the mass you gave your particles to produce a plot of p(v) against v.\n",
      "\n",
      "By comparing the plot you produce with the histogram of speeds extracted from your 1000 particle simulation above do you think our numerical simulation agrees or disagrees with the analytical expression?"
     ]
    },
    {
     "cell_type": "code",
     "collapsed": false,
     "input": [],
     "language": "python",
     "metadata": {},
     "outputs": []
    },
    {
     "cell_type": "heading",
     "level": 3,
     "metadata": {},
     "source": [
      "Expansion of the gas"
     ]
    },
    {
     "cell_type": "markdown",
     "metadata": {},
     "source": [
      "Build a simulation where all particles are randomly distributed but only on the left half of the box. The right half ot the box is empty. Momenta of the particles can be randomly distributed.\n",
      "\n",
      "Run the simulation and observe the result."
     ]
    },
    {
     "cell_type": "code",
     "collapsed": false,
     "input": [],
     "language": "python",
     "metadata": {},
     "outputs": []
    },
    {
     "cell_type": "markdown",
     "metadata": {},
     "source": [
      "As a function of time, count the number of particles on each side of the box, and plot them on the same figure. How long does it take to reach equilibrium? Does it change, if you change the maximum initial momentum?"
     ]
    },
    {
     "cell_type": "code",
     "collapsed": false,
     "input": [],
     "language": "python",
     "metadata": {},
     "outputs": []
    },
    {
     "cell_type": "heading",
     "level": 2,
     "metadata": {},
     "source": [
      "Optional (hard!)"
     ]
    },
    {
     "cell_type": "markdown",
     "metadata": {},
     "source": [
      "The tasks suggested here are harder and can take a significant time to complete. **You are not expected to complete any of them, and it is possibe to obtain full marks without completing this part of the project**. These tasks are presented as suggestions of ways in which the simulations could be improved. Contact the demonstrators if you want to discuss implemeting any of these features."
     ]
    },
    {
     "cell_type": "heading",
     "level": 3,
     "metadata": {},
     "source": [
      "Mixing"
     ]
    },
    {
     "cell_type": "markdown",
     "metadata": {},
     "source": [
      "You can use the program you developed to study diffusion and mixing. You can start a simulation with different particles on the left and right halfs of the box (what distinguishes the particles could be a physical atribute such as mass, or a ficticious one such as colour). Your simulation could look [something like this](http://www.imperial.ac.uk/chemistry-teaching/chemicalequilibria/moleculesmixing2.html). Plot the number of particles of each type on each side of the box as a function of time."
     ]
    },
    {
     "cell_type": "heading",
     "level": 3,
     "metadata": {},
     "source": [
      "Pressure on the container walls"
     ]
    },
    {
     "cell_type": "markdown",
     "metadata": {},
     "source": [
      "Can you modify the boundary code so that you can record the pressure being exerted on the box during each time step and hence produce a plot of pressure vs. time? Does your simulation agree with the ideal gas equations?\n",
      "\n",
      "You can plot the pressure for changing system density (for example by reducing the box size keeping the number of particles constant. You may be able to observe a phase transition."
     ]
    },
    {
     "cell_type": "heading",
     "level": 3,
     "metadata": {},
     "source": [
      "Heat transfer across the boundary"
     ]
    },
    {
     "cell_type": "markdown",
     "metadata": {},
     "source": [
      "At the moment the system we are simulating is isolated: there are no exchanges of mass or energy with the surroundings. We could however allow for the transfer of heat at the boundary, in which case collisions with the walls would no longer be elastic. What would happen if you had walls that were warmer/cooler than the gas?\n",
      "\n",
      "Implement the heat change with the box walls and look how the total energy of the gas changes with time."
     ]
    },
    {
     "cell_type": "heading",
     "level": 3,
     "metadata": {},
     "source": [
      "Simulating properties of the bulk"
     ]
    },
    {
     "cell_type": "markdown",
     "metadata": {},
     "source": [
      "####Periodic boundary conditions\n",
      "The systems we have been simulating have a very large surface area to volume ratio (or in this case, large perimeter to area ratio). Contrast the particle radius and the box length you have been using, with the radius of a molecule compared with a 1 litre container. Our simulations thus greatly overestimate boundary effects and are therefore unsuitable to study bulk properties.\n",
      "\n",
      "A very comon technique to study bulk properties is to use [periodic boundary conditions](https://en.wikipedia.org/wiki/Periodic_boundary_conditions). In this case the walls are completely supressed and a particle crossing the boundary on one side of the box is placed on the oposing side of the box, keeping the same momentum. Thus simulating an \"infinite\" box.\n",
      "\n",
      "Implement a simulation class with periodic boundary conditions.\n",
      "\n",
      "####Radial distribution function\n",
      "One quantity often used to describe the structure of fluids is the [radial distribution function g(r)](https://en.wikipedia.org/wiki/Radial_distribution_function). This quantity measures the probability of 2 particles being at a distance r from each other. Make a plot of the g(r) for one of your simulations."
     ]
    },
    {
     "cell_type": "heading",
     "level": 3,
     "metadata": {},
     "source": [
      "Speeding up the simulations"
     ]
    },
    {
     "cell_type": "markdown",
     "metadata": {},
     "source": [
      "Our simulation is quite slow (you can see where the code is spending its time by including %%prun at the top of a cell and then executing your simulation code). Most of the computational expense is in the particle collisions because there are N(N-1)/2 pairs of particles. One way to reduce this expense is to divide the box up into quadrants, keep track of which quadrant the particles are in and then when executing the particle_collision code only look for collisions between pairs of particles in the same quadrant. Care needs to be taken when thinking about particles on the edges of the quadrants. Can you speed up the code in this way?"
     ]
    },
    {
     "cell_type": "code",
     "collapsed": false,
     "input": [
      "%%prun\n",
      "\n",
      "pass"
     ],
     "language": "python",
     "metadata": {},
     "outputs": []
    }
   ],
   "metadata": {}
  }
 ]
}